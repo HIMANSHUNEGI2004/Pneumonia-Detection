{
 "cells": [
  {
   "cell_type": "markdown",
   "id": "dd4d3d3d",
   "metadata": {
    "papermill": {
     "duration": 0.007736,
     "end_time": "2024-04-12T23:58:52.715245",
     "exception": false,
     "start_time": "2024-04-12T23:58:52.707509",
     "status": "completed"
    },
    "tags": []
   },
   "source": [
    "# **Importing Modules**"
   ]
  },
  {
   "cell_type": "code",
   "execution_count": 1,
   "id": "aad9f14d",
   "metadata": {
    "execution": {
     "iopub.execute_input": "2024-04-12T23:58:52.731162Z",
     "iopub.status.busy": "2024-04-12T23:58:52.730778Z",
     "iopub.status.idle": "2024-04-12T23:59:01.064925Z",
     "shell.execute_reply": "2024-04-12T23:59:01.063736Z"
    },
    "papermill": {
     "duration": 8.344888,
     "end_time": "2024-04-12T23:59:01.067413",
     "exception": false,
     "start_time": "2024-04-12T23:58:52.722525",
     "status": "completed"
    },
    "tags": []
   },
   "outputs": [
    {
     "name": "stderr",
     "output_type": "stream",
     "text": [
      "/opt/conda/lib/python3.10/site-packages/scipy/__init__.py:146: UserWarning: A NumPy version >=1.16.5 and <1.23.0 is required for this version of SciPy (detected version 1.23.5\n",
      "  warnings.warn(f\"A NumPy version >={np_minversion} and <{np_maxversion}\"\n"
     ]
    }
   ],
   "source": [
    "from keras.models import Model  #Imports the base class for building neural network models.\n",
    "from keras.layers import Input, Conv2D, MaxPooling2D, AveragePooling2D, Flatten, GlobalAveragePooling2D, Dense, Dropout\n",
    "from keras.layers import concatenate\n",
    "from tensorflow.keras.preprocessing import image\n",
    "import numpy as np \n",
    "import pandas as pd\n",
    "import cv2\n",
    "import os\n",
    "from PIL import Image"
   ]
  },
  {
   "cell_type": "code",
   "execution_count": 2,
   "id": "f61c3c42",
   "metadata": {
    "execution": {
     "iopub.execute_input": "2024-04-12T23:59:01.084964Z",
     "iopub.status.busy": "2024-04-12T23:59:01.084307Z",
     "iopub.status.idle": "2024-04-13T00:00:46.482455Z",
     "shell.execute_reply": "2024-04-13T00:00:46.481506Z"
    },
    "papermill": {
     "duration": 105.410099,
     "end_time": "2024-04-13T00:00:46.485568",
     "exception": false,
     "start_time": "2024-04-12T23:59:01.075469",
     "status": "completed"
    },
    "tags": []
   },
   "outputs": [],
   "source": [
    "train_data_path = '/kaggle/input/chest-xray-pneumonia/chest_xray/train'\n",
    "\n",
    "normal = os.listdir('{}/{}'.format(train_data_path,'NORMAL')) # GET LIST OF NORMAL IMAGES\n",
    "pneumonia = os.listdir('{}/{}'.format(train_data_path,'PNEUMONIA')) #GET LIST OF PNEUMONIA IMAGES\n",
    "\n",
    "# Initialize lists to store image data and labels\n",
    "image_data = []\n",
    "labels = []\n",
    "\n",
    "def preprocess_image(image_path):\n",
    "    # Load and preprocess a single image\n",
    "    image = Image.open(image_path)\n",
    "    image = image.resize((224, 224))  # Resize to 224x224 pixels\n",
    "    if image.mode != \"L\":\n",
    "        image = image.convert(\"L\")  # Convert to grayscale if not already\n",
    "    image_array = np.array(image) / 255.0  # Normalize pixel values to [0, 1]\n",
    "    return image_array\n",
    "\n",
    "for i in normal:\n",
    "    image_path = '{}/{}/{}'.format(train_data_path,'NORMAL',i)\n",
    "    image_array = preprocess_image(image_path)\n",
    "    image_data.append(image_array)\n",
    "    labels.append(0)\n",
    "\n",
    "    \n",
    "    \n",
    "for i in pneumonia:\n",
    "    image_path = '{}/{}/{}'.format(train_data_path,'PNEUMONIA',i)\n",
    "    image_array = preprocess_image(image_path)\n",
    "    image_data.append(image_array)\n",
    "    labels.append(1) \n",
    "    \n",
    "# Convert the lists to NumPy arrays\n",
    "image_data = np.array(image_data)\n",
    "labels = np.array(labels)\n",
    "\n",
    "# Ensure the shape matches (None, 224, 224, 1)\n",
    "image_data = image_data.reshape(5216, 224, 224, 1)\n",
    "# image_data = np.expand_dims(image_data, axis=-1)\n"
   ]
  },
  {
   "cell_type": "code",
   "execution_count": 3,
   "id": "3ab2bd16",
   "metadata": {
    "execution": {
     "iopub.execute_input": "2024-04-13T00:00:46.506018Z",
     "iopub.status.busy": "2024-04-13T00:00:46.505622Z",
     "iopub.status.idle": "2024-04-13T00:00:57.626662Z",
     "shell.execute_reply": "2024-04-13T00:00:57.625474Z"
    },
    "papermill": {
     "duration": 11.132257,
     "end_time": "2024-04-13T00:00:57.629190",
     "exception": false,
     "start_time": "2024-04-13T00:00:46.496933",
     "status": "completed"
    },
    "tags": []
   },
   "outputs": [
    {
     "name": "stdout",
     "output_type": "stream",
     "text": [
      "31309824\n"
     ]
    }
   ],
   "source": [
    "test_data_path = '/kaggle/input/chest-xray-pneumonia/chest_xray/test'\n",
    "\n",
    "normal = os.listdir('{}/{}'.format(test_data_path,'NORMAL')) # GET LIST OF NORMAL IMAGES\n",
    "pneumonia = os.listdir('{}/{}'.format(test_data_path,'PNEUMONIA')) #GET LIST OF PNEUMONIA IMAGES\n",
    "\n",
    "\n",
    "# Initialize lists to store image data and labels\n",
    "test_image_data = []\n",
    "test_image_labels = []\n",
    "\n",
    "def preprocess_image(image_path):\n",
    "    # Load and preprocess a single image\n",
    "    image = Image.open(image_path)\n",
    "    image = image.resize((224, 224))  # Resize to 224x224 pixels\n",
    "    if image.mode != \"L\":\n",
    "        image = image.convert(\"L\")  # Convert to grayscale if not already\n",
    "    image_array = np.array(image) / 255.0  # Normalize pixel values to [0, 1]\n",
    "    return image_array\n",
    "\n",
    "for i in normal:\n",
    "    image_path = '{}/{}/{}'.format(test_data_path,'NORMAL',i)\n",
    "    image_array = preprocess_image(image_path)\n",
    "    test_image_data.append(image_array)\n",
    "    test_image_labels.append(0)\n",
    "\n",
    "    \n",
    "    \n",
    "for i in pneumonia:\n",
    "    image_path = '{}/{}/{}'.format(test_data_path,'PNEUMONIA',i)\n",
    "    image_array = preprocess_image(image_path)\n",
    "    test_image_data.append(image_array)\n",
    "    test_image_labels.append(1) \n",
    "    \n",
    "# Convert the lists to NumPy arrays\n",
    "test_image_data = np.array(test_image_data)\n",
    "test_image_labels = np.array(test_image_labels)\n",
    "print(test_image_data.size)\n",
    "# Ensure the shape matches (None, 224, 224, 1)\n",
    "test_image_data = test_image_data.reshape(624, 224, 224, 1)\n"
   ]
  },
  {
   "cell_type": "markdown",
   "id": "18249ad1",
   "metadata": {
    "papermill": {
     "duration": 0.007418,
     "end_time": "2024-04-13T00:00:57.644882",
     "exception": false,
     "start_time": "2024-04-13T00:00:57.637464",
     "status": "completed"
    },
    "tags": []
   },
   "source": [
    "## Inception layer\n"
   ]
  },
  {
   "cell_type": "code",
   "execution_count": 4,
   "id": "6004ecd4",
   "metadata": {
    "execution": {
     "iopub.execute_input": "2024-04-13T00:00:57.661408Z",
     "iopub.status.busy": "2024-04-13T00:00:57.660794Z",
     "iopub.status.idle": "2024-04-13T00:00:57.669122Z",
     "shell.execute_reply": "2024-04-13T00:00:57.668256Z"
    },
    "papermill": {
     "duration": 0.018852,
     "end_time": "2024-04-13T00:00:57.671246",
     "exception": false,
     "start_time": "2024-04-13T00:00:57.652394",
     "status": "completed"
    },
    "tags": []
   },
   "outputs": [],
   "source": [
    "def Inception_block(input_layer, f1, f2_conv1, f2_conv3, f3_conv1, f3_conv5, f4): \n",
    "  # Input: \n",
    "  # - f1: number of filters of the 1x1 convolutional layer in the first path\n",
    "  # - f2_conv1, f2_conv3 are number of filters corresponding to the 1x1 and 3x3 convolutional layers in the second path\n",
    "  # - f3_conv1, f3_conv5 are the number of filters corresponding to the 1x1 and 5x5  convolutional layer in the third path\n",
    "  # - f4: number of filters of the 1x1 convolutional layer in the fourth path\n",
    "\n",
    "  # 1st path\n",
    "  path1 = Conv2D(filters=f1, kernel_size = (1,1), padding = 'same', activation = 'relu')(input_layer)\n",
    "\n",
    "  # 2nd path\n",
    "  path2 = Conv2D(filters = f2_conv1, kernel_size = (1,1), padding = 'same', activation = 'relu')(input_layer)\n",
    "  path2 = Conv2D(filters = f2_conv3, kernel_size = (3,3), padding = 'same', activation = 'relu')(path2)\n",
    "\n",
    "  # 3rd path\n",
    "  path3 = Conv2D(filters = f3_conv1, kernel_size = (1,1), padding = 'same', activation = 'relu')(input_layer)\n",
    "  path3 = Conv2D(filters = f3_conv5, kernel_size = (5,5), padding = 'same', activation = 'relu')(path3)\n",
    "\n",
    "  # 4th path\n",
    "  path4 = MaxPooling2D((3,3), strides= (1,1), padding = 'same')(input_layer)\n",
    "  path4 = Conv2D(filters = f4, kernel_size = (1,1), padding = 'same', activation = 'relu')(path4)\n",
    "\n",
    "  output_layer = concatenate([path1, path2, path3, path4], axis = -1)\n",
    "\n",
    "  return output_layer"
   ]
  },
  {
   "cell_type": "code",
   "execution_count": 5,
   "id": "3c58568e",
   "metadata": {
    "execution": {
     "iopub.execute_input": "2024-04-13T00:00:57.686752Z",
     "iopub.status.busy": "2024-04-13T00:00:57.686501Z",
     "iopub.status.idle": "2024-04-13T00:00:57.703380Z",
     "shell.execute_reply": "2024-04-13T00:00:57.702600Z"
    },
    "papermill": {
     "duration": 0.026782,
     "end_time": "2024-04-13T00:00:57.705257",
     "exception": false,
     "start_time": "2024-04-13T00:00:57.678475",
     "status": "completed"
    },
    "tags": []
   },
   "outputs": [],
   "source": [
    "def GoogLeNet():\n",
    "  # input layer \n",
    "  input_layer = Input(shape = (224, 224, 1))\n",
    "\n",
    "  # convolutional layer: filters = 64, kernel_size = (7,7), strides = 2\n",
    "  X = Conv2D(filters = 64, kernel_size = (7,7), strides = 2, padding = 'valid', activation = 'relu')(input_layer)\n",
    "\n",
    "  # max-pooling layer: pool_size = (3,3), strides = 2\n",
    "  X = MaxPooling2D(pool_size = (3,3), strides = 2)(X)\n",
    "\n",
    "  # convolutional layer: filters = 64, strides = 1\n",
    "  X = Conv2D(filters = 64, kernel_size = (1,1), strides = 1, padding = 'same', activation = 'relu')(X)\n",
    "\n",
    "  # convolutional layer: filters = 192, kernel_size = (3,3)\n",
    "  X = Conv2D(filters = 192, kernel_size = (3,3), padding = 'same', activation = 'relu')(X)\n",
    "\n",
    "  # max-pooling layer: pool_size = (3,3), strides = 2\n",
    "  X = MaxPooling2D(pool_size= (3,3), strides = 2)(X)\n",
    "\n",
    "  # 1st Inception block\n",
    "  X = Inception_block(X, f1 = 64, f2_conv1 = 96, f2_conv3 = 128, f3_conv1 = 16, f3_conv5 = 32, f4 = 32)\n",
    "\n",
    "  # 2nd Inception block\n",
    "  X = Inception_block(X, f1 = 128, f2_conv1 = 128, f2_conv3 = 192, f3_conv1 = 32, f3_conv5 = 96, f4 = 64)\n",
    "\n",
    "  # max-pooling layer: pool_size = (3,3), strides = 2\n",
    "  X = MaxPooling2D(pool_size= (3,3), strides = 2)(X)\n",
    "\n",
    "  # 3rd Inception block\n",
    "  X = Inception_block(X, f1 = 192, f2_conv1 = 96, f2_conv3 = 208, f3_conv1 = 16, f3_conv5 = 48, f4 = 64)\n",
    "\n",
    "  # Extra network 1:\n",
    "  X1 = AveragePooling2D(pool_size = (5,5), strides = 3)(X)\n",
    "  X1 = Conv2D(filters = 128, kernel_size = (1,1), padding = 'same', activation = 'relu')(X1)\n",
    "  X1 = Flatten()(X1)\n",
    "  X1 = Dense(1024, activation = 'relu')(X1)\n",
    "  X1 = Dropout(0.7)(X1)\n",
    "  X1 = Dense(1, activation = 'sigmoid')(X1)\n",
    "\n",
    "  \n",
    "  # 4th Inception block\n",
    "  X = Inception_block(X, f1 = 160, f2_conv1 = 112, f2_conv3 = 224, f3_conv1 = 24, f3_conv5 = 64, f4 = 64)\n",
    "\n",
    "  # 5th Inception block\n",
    "  X = Inception_block(X, f1 = 128, f2_conv1 = 128, f2_conv3 = 256, f3_conv1 = 24, f3_conv5 = 64, f4 = 64)\n",
    "\n",
    "  # 6th Inception block\n",
    "  X = Inception_block(X, f1 = 112, f2_conv1 = 144, f2_conv3 = 288, f3_conv1 = 32, f3_conv5 = 64, f4 = 64)\n",
    "\n",
    "  # Extra network 2:\n",
    "  X2 = AveragePooling2D(pool_size = (5,5), strides = 3)(X)\n",
    "  X2 = Conv2D(filters = 128, kernel_size = (1,1), padding = 'same', activation = 'relu')(X2)\n",
    "  X2 = Flatten()(X2)\n",
    "  X2 = Dense(1024, activation = 'relu')(X2)\n",
    "  X2 = Dropout(0.6)(X2)\n",
    "  X2 = Dense(1, activation = 'sigmoid')(X2)\n",
    "  \n",
    "  \n",
    "  # 7th Inception block\n",
    "  X = Inception_block(X, f1 = 256, f2_conv1 = 160, f2_conv3 = 320, f3_conv1 = 32, \n",
    "                      f3_conv5 = 128, f4 = 128)\n",
    "\n",
    "  # max-pooling layer: pool_size = (3,3), strides = 2\n",
    "  X = MaxPooling2D(pool_size = (3,3), strides = 2)(X)\n",
    "\n",
    "  # 8th Inception block\n",
    "  X = Inception_block(X, f1 = 256, f2_conv1 = 160, f2_conv3 = 320, f3_conv1 = 32, f3_conv5 = 128, f4 = 128)\n",
    "\n",
    "  # 9th Inception block\n",
    "  X = Inception_block(X, f1 = 384, f2_conv1 = 192, f2_conv3 = 384, f3_conv1 = 48, f3_conv5 = 128, f4 = 128)\n",
    "\n",
    "  # Global Average pooling layer \n",
    "  X = GlobalAveragePooling2D(name = 'GAPL')(X)\n",
    "\n",
    "  # Dropoutlayer \n",
    "  X = Dropout(0.5)(X)\n",
    "\n",
    "  # output layer \n",
    "  X = Dense(1, activation = 'sigmoid')(X)\n",
    "  \n",
    "  # model\n",
    "  model = Model(input_layer, [X, X1, X2], name = 'GoogLeNet')\n",
    "\n",
    "  return model"
   ]
  },
  {
   "cell_type": "code",
   "execution_count": 6,
   "id": "7005002a",
   "metadata": {
    "execution": {
     "iopub.execute_input": "2024-04-13T00:00:57.720686Z",
     "iopub.status.busy": "2024-04-13T00:00:57.720438Z",
     "iopub.status.idle": "2024-04-13T00:00:59.698795Z",
     "shell.execute_reply": "2024-04-13T00:00:59.697824Z"
    },
    "papermill": {
     "duration": 1.98869,
     "end_time": "2024-04-13T00:00:59.701198",
     "exception": false,
     "start_time": "2024-04-13T00:00:57.712508",
     "status": "completed"
    },
    "tags": []
   },
   "outputs": [],
   "source": [
    "from keras.preprocessing.image import ImageDataGenerator\n",
    "\n",
    "# Data augmentation\n",
    "train_datagen = ImageDataGenerator(\n",
    "    rotation_range=20,\n",
    "    width_shift_range=0.2,\n",
    "    height_shift_range=0.2,\n",
    "    shear_range=0.2,\n",
    "    zoom_range=0.2,\n",
    "    horizontal_flip=True,\n",
    "    fill_mode='nearest')\n",
    "\n",
    "train_generator = train_datagen.flow(\n",
    "    x=image_data,\n",
    "    y=labels,\n",
    "    batch_size=32)\n",
    "\n",
    "# Define a new model\n",
    "model = GoogLeNet()\n",
    "metrics_list = ['accuracy']\n",
    "\n",
    "# Compile the model\n",
    "model.compile(optimizer='rmsprop', loss='binary_crossentropy', metrics=metrics_list)\n",
    "\n",
    "\n"
   ]
  },
  {
   "cell_type": "code",
   "execution_count": null,
   "id": "adc607f8",
   "metadata": {
    "papermill": {
     "duration": 0.007253,
     "end_time": "2024-04-13T00:00:59.716111",
     "exception": false,
     "start_time": "2024-04-13T00:00:59.708858",
     "status": "completed"
    },
    "tags": []
   },
   "outputs": [],
   "source": []
  },
  {
   "cell_type": "code",
   "execution_count": 7,
   "id": "d3cf7ea8",
   "metadata": {
    "execution": {
     "iopub.execute_input": "2024-04-13T00:00:59.732165Z",
     "iopub.status.busy": "2024-04-13T00:00:59.731860Z",
     "iopub.status.idle": "2024-04-13T00:00:59.736542Z",
     "shell.execute_reply": "2024-04-13T00:00:59.735634Z"
    },
    "papermill": {
     "duration": 0.015151,
     "end_time": "2024-04-13T00:00:59.738526",
     "exception": false,
     "start_time": "2024-04-13T00:00:59.723375",
     "status": "completed"
    },
    "tags": []
   },
   "outputs": [],
   "source": [
    "from keras.callbacks import ModelCheckpoint\n",
    "checkpoint = ModelCheckpoint(filepath='/kaggle/working/best_model.h5', monitor='val_dense_3_accuracy', save_best_only=True, verbose=1)"
   ]
  },
  {
   "cell_type": "code",
   "execution_count": 8,
   "id": "2003b376",
   "metadata": {
    "execution": {
     "iopub.execute_input": "2024-04-13T00:00:59.754118Z",
     "iopub.status.busy": "2024-04-13T00:00:59.753839Z",
     "iopub.status.idle": "2024-04-13T00:54:09.212527Z",
     "shell.execute_reply": "2024-04-13T00:54:09.211424Z"
    },
    "papermill": {
     "duration": 3189.469273,
     "end_time": "2024-04-13T00:54:09.215033",
     "exception": false,
     "start_time": "2024-04-13T00:00:59.745760",
     "status": "completed"
    },
    "tags": []
   },
   "outputs": [
    {
     "name": "stdout",
     "output_type": "stream",
     "text": [
      "Epoch 1/130\n",
      "163/163 [==============================] - ETA: 0s - loss: 1.7266 - dense_4_loss: 0.5759 - dense_1_loss: 0.5736 - dense_3_loss: 0.5772 - dense_4_accuracy: 0.7396 - dense_1_accuracy: 0.7391 - dense_3_accuracy: 0.7398\n",
      "Epoch 1: val_dense_3_accuracy improved from -inf to 0.62500, saving model to /kaggle/working/best_model.h5\n",
      "163/163 [==============================] - 51s 165ms/step - loss: 1.7266 - dense_4_loss: 0.5759 - dense_1_loss: 0.5736 - dense_3_loss: 0.5772 - dense_4_accuracy: 0.7396 - dense_1_accuracy: 0.7391 - dense_3_accuracy: 0.7398 - val_loss: 2.3326 - val_dense_4_loss: 0.7521 - val_dense_1_loss: 0.8101 - val_dense_3_loss: 0.7705 - val_dense_4_accuracy: 0.6250 - val_dense_1_accuracy: 0.6250 - val_dense_3_accuracy: 0.6250\n",
      "Epoch 2/130\n",
      "163/163 [==============================] - ETA: 0s - loss: 1.3453 - dense_4_loss: 0.4645 - dense_1_loss: 0.4332 - dense_3_loss: 0.4476 - dense_4_accuracy: 0.7594 - dense_1_accuracy: 0.7866 - dense_3_accuracy: 0.7674\n",
      "Epoch 2: val_dense_3_accuracy improved from 0.62500 to 0.76763, saving model to /kaggle/working/best_model.h5\n",
      "163/163 [==============================] - 24s 149ms/step - loss: 1.3453 - dense_4_loss: 0.4645 - dense_1_loss: 0.4332 - dense_3_loss: 0.4476 - dense_4_accuracy: 0.7594 - dense_1_accuracy: 0.7866 - dense_3_accuracy: 0.7674 - val_loss: 1.4209 - val_dense_4_loss: 0.4719 - val_dense_1_loss: 0.4770 - val_dense_3_loss: 0.4720 - val_dense_4_accuracy: 0.7724 - val_dense_1_accuracy: 0.7500 - val_dense_3_accuracy: 0.7676\n",
      "Epoch 3/130\n",
      "163/163 [==============================] - ETA: 0s - loss: 1.1685 - dense_4_loss: 0.3990 - dense_1_loss: 0.3790 - dense_3_loss: 0.3905 - dense_4_accuracy: 0.7975 - dense_1_accuracy: 0.8121 - dense_3_accuracy: 0.8043\n",
      "Epoch 3: val_dense_3_accuracy did not improve from 0.76763\n",
      "163/163 [==============================] - 24s 147ms/step - loss: 1.1685 - dense_4_loss: 0.3990 - dense_1_loss: 0.3790 - dense_3_loss: 0.3905 - dense_4_accuracy: 0.7975 - dense_1_accuracy: 0.8121 - dense_3_accuracy: 0.8043 - val_loss: 3.2229 - val_dense_4_loss: 1.0546 - val_dense_1_loss: 1.0685 - val_dense_3_loss: 1.0998 - val_dense_4_accuracy: 0.6587 - val_dense_1_accuracy: 0.6490 - val_dense_3_accuracy: 0.6506\n",
      "Epoch 4/130\n",
      "163/163 [==============================] - ETA: 0s - loss: 1.0780 - dense_4_loss: 0.3668 - dense_1_loss: 0.3530 - dense_3_loss: 0.3582 - dense_4_accuracy: 0.8273 - dense_1_accuracy: 0.8374 - dense_3_accuracy: 0.8296\n",
      "Epoch 4: val_dense_3_accuracy did not improve from 0.76763\n",
      "163/163 [==============================] - 24s 146ms/step - loss: 1.0780 - dense_4_loss: 0.3668 - dense_1_loss: 0.3530 - dense_3_loss: 0.3582 - dense_4_accuracy: 0.8273 - dense_1_accuracy: 0.8374 - dense_3_accuracy: 0.8296 - val_loss: 1.5546 - val_dense_4_loss: 0.5587 - val_dense_1_loss: 0.4599 - val_dense_3_loss: 0.5360 - val_dense_4_accuracy: 0.7147 - val_dense_1_accuracy: 0.7692 - val_dense_3_accuracy: 0.7372\n",
      "Epoch 5/130\n",
      "163/163 [==============================] - ETA: 0s - loss: 1.0272 - dense_4_loss: 0.3520 - dense_1_loss: 0.3334 - dense_3_loss: 0.3419 - dense_4_accuracy: 0.8399 - dense_1_accuracy: 0.8476 - dense_3_accuracy: 0.8426\n",
      "Epoch 5: val_dense_3_accuracy improved from 0.76763 to 0.77083, saving model to /kaggle/working/best_model.h5\n",
      "163/163 [==============================] - 25s 151ms/step - loss: 1.0272 - dense_4_loss: 0.3520 - dense_1_loss: 0.3334 - dense_3_loss: 0.3419 - dense_4_accuracy: 0.8399 - dense_1_accuracy: 0.8476 - dense_3_accuracy: 0.8426 - val_loss: 1.4593 - val_dense_4_loss: 0.4672 - val_dense_1_loss: 0.5028 - val_dense_3_loss: 0.4893 - val_dense_4_accuracy: 0.7821 - val_dense_1_accuracy: 0.7853 - val_dense_3_accuracy: 0.7708\n",
      "Epoch 6/130\n",
      "163/163 [==============================] - ETA: 0s - loss: 0.9098 - dense_4_loss: 0.3104 - dense_1_loss: 0.2946 - dense_3_loss: 0.3047 - dense_4_accuracy: 0.8616 - dense_1_accuracy: 0.8715 - dense_3_accuracy: 0.8662\n",
      "Epoch 6: val_dense_3_accuracy improved from 0.77083 to 0.85897, saving model to /kaggle/working/best_model.h5\n",
      "163/163 [==============================] - 24s 150ms/step - loss: 0.9098 - dense_4_loss: 0.3104 - dense_1_loss: 0.2946 - dense_3_loss: 0.3047 - dense_4_accuracy: 0.8616 - dense_1_accuracy: 0.8715 - dense_3_accuracy: 0.8662 - val_loss: 1.1252 - val_dense_4_loss: 0.3742 - val_dense_1_loss: 0.3764 - val_dense_3_loss: 0.3746 - val_dense_4_accuracy: 0.8413 - val_dense_1_accuracy: 0.8478 - val_dense_3_accuracy: 0.8590\n",
      "Epoch 7/130\n",
      "163/163 [==============================] - ETA: 0s - loss: 0.8476 - dense_4_loss: 0.2902 - dense_1_loss: 0.2761 - dense_3_loss: 0.2813 - dense_4_accuracy: 0.8746 - dense_1_accuracy: 0.8790 - dense_3_accuracy: 0.8763\n",
      "Epoch 7: val_dense_3_accuracy did not improve from 0.85897\n",
      "163/163 [==============================] - 24s 147ms/step - loss: 0.8476 - dense_4_loss: 0.2902 - dense_1_loss: 0.2761 - dense_3_loss: 0.2813 - dense_4_accuracy: 0.8746 - dense_1_accuracy: 0.8790 - dense_3_accuracy: 0.8763 - val_loss: 1.1271 - val_dense_4_loss: 0.3857 - val_dense_1_loss: 0.3649 - val_dense_3_loss: 0.3765 - val_dense_4_accuracy: 0.8045 - val_dense_1_accuracy: 0.8301 - val_dense_3_accuracy: 0.8237\n",
      "Epoch 8/130\n",
      "163/163 [==============================] - ETA: 0s - loss: 0.8317 - dense_4_loss: 0.2819 - dense_1_loss: 0.2704 - dense_3_loss: 0.2793 - dense_4_accuracy: 0.8765 - dense_1_accuracy: 0.8804 - dense_3_accuracy: 0.8771\n",
      "Epoch 8: val_dense_3_accuracy did not improve from 0.85897\n",
      "163/163 [==============================] - 24s 147ms/step - loss: 0.8317 - dense_4_loss: 0.2819 - dense_1_loss: 0.2704 - dense_3_loss: 0.2793 - dense_4_accuracy: 0.8765 - dense_1_accuracy: 0.8804 - dense_3_accuracy: 0.8771 - val_loss: 1.0542 - val_dense_4_loss: 0.3532 - val_dense_1_loss: 0.3516 - val_dense_3_loss: 0.3494 - val_dense_4_accuracy: 0.8413 - val_dense_1_accuracy: 0.8429 - val_dense_3_accuracy: 0.8478\n",
      "Epoch 9/130\n",
      "163/163 [==============================] - ETA: 0s - loss: 0.7743 - dense_4_loss: 0.2632 - dense_1_loss: 0.2518 - dense_3_loss: 0.2593 - dense_4_accuracy: 0.8907 - dense_1_accuracy: 0.8953 - dense_3_accuracy: 0.8919\n",
      "Epoch 9: val_dense_3_accuracy improved from 0.85897 to 0.86378, saving model to /kaggle/working/best_model.h5\n",
      "163/163 [==============================] - 25s 151ms/step - loss: 0.7743 - dense_4_loss: 0.2632 - dense_1_loss: 0.2518 - dense_3_loss: 0.2593 - dense_4_accuracy: 0.8907 - dense_1_accuracy: 0.8953 - dense_3_accuracy: 0.8919 - val_loss: 1.0969 - val_dense_4_loss: 0.3662 - val_dense_1_loss: 0.3663 - val_dense_3_loss: 0.3644 - val_dense_4_accuracy: 0.8622 - val_dense_1_accuracy: 0.8574 - val_dense_3_accuracy: 0.8638\n",
      "Epoch 10/130\n",
      "163/163 [==============================] - ETA: 0s - loss: 0.7233 - dense_4_loss: 0.2447 - dense_1_loss: 0.2359 - dense_3_loss: 0.2426 - dense_4_accuracy: 0.9011 - dense_1_accuracy: 0.9009 - dense_3_accuracy: 0.8997\n",
      "Epoch 10: val_dense_3_accuracy did not improve from 0.86378\n",
      "163/163 [==============================] - 24s 146ms/step - loss: 0.7233 - dense_4_loss: 0.2447 - dense_1_loss: 0.2359 - dense_3_loss: 0.2426 - dense_4_accuracy: 0.9011 - dense_1_accuracy: 0.9009 - dense_3_accuracy: 0.8997 - val_loss: 1.1782 - val_dense_4_loss: 0.3999 - val_dense_1_loss: 0.3843 - val_dense_3_loss: 0.3940 - val_dense_4_accuracy: 0.8221 - val_dense_1_accuracy: 0.8365 - val_dense_3_accuracy: 0.8221\n",
      "Epoch 11/130\n",
      "163/163 [==============================] - ETA: 0s - loss: 0.6999 - dense_4_loss: 0.2382 - dense_1_loss: 0.2277 - dense_3_loss: 0.2340 - dense_4_accuracy: 0.9097 - dense_1_accuracy: 0.9107 - dense_3_accuracy: 0.9103\n",
      "Epoch 11: val_dense_3_accuracy did not improve from 0.86378\n",
      "163/163 [==============================] - 24s 145ms/step - loss: 0.6999 - dense_4_loss: 0.2382 - dense_1_loss: 0.2277 - dense_3_loss: 0.2340 - dense_4_accuracy: 0.9097 - dense_1_accuracy: 0.9107 - dense_3_accuracy: 0.9103 - val_loss: 1.2558 - val_dense_4_loss: 0.4174 - val_dense_1_loss: 0.4174 - val_dense_3_loss: 0.4210 - val_dense_4_accuracy: 0.8205 - val_dense_1_accuracy: 0.8173 - val_dense_3_accuracy: 0.8125\n",
      "Epoch 12/130\n",
      "163/163 [==============================] - ETA: 0s - loss: 0.6403 - dense_4_loss: 0.2197 - dense_1_loss: 0.2052 - dense_3_loss: 0.2154 - dense_4_accuracy: 0.9149 - dense_1_accuracy: 0.9183 - dense_3_accuracy: 0.9170\n",
      "Epoch 12: val_dense_3_accuracy did not improve from 0.86378\n",
      "163/163 [==============================] - 24s 147ms/step - loss: 0.6403 - dense_4_loss: 0.2197 - dense_1_loss: 0.2052 - dense_3_loss: 0.2154 - dense_4_accuracy: 0.9149 - dense_1_accuracy: 0.9183 - dense_3_accuracy: 0.9170 - val_loss: 1.0732 - val_dense_4_loss: 0.3582 - val_dense_1_loss: 0.3524 - val_dense_3_loss: 0.3625 - val_dense_4_accuracy: 0.8542 - val_dense_1_accuracy: 0.8654 - val_dense_3_accuracy: 0.8590\n",
      "Epoch 13/130\n",
      "163/163 [==============================] - ETA: 0s - loss: 0.6327 - dense_4_loss: 0.2177 - dense_1_loss: 0.2024 - dense_3_loss: 0.2126 - dense_4_accuracy: 0.9118 - dense_1_accuracy: 0.9181 - dense_3_accuracy: 0.9139\n",
      "Epoch 13: val_dense_3_accuracy did not improve from 0.86378\n",
      "163/163 [==============================] - 24s 146ms/step - loss: 0.6327 - dense_4_loss: 0.2177 - dense_1_loss: 0.2024 - dense_3_loss: 0.2126 - dense_4_accuracy: 0.9118 - dense_1_accuracy: 0.9181 - dense_3_accuracy: 0.9139 - val_loss: 1.1089 - val_dense_4_loss: 0.3935 - val_dense_1_loss: 0.3530 - val_dense_3_loss: 0.3624 - val_dense_4_accuracy: 0.8333 - val_dense_1_accuracy: 0.8622 - val_dense_3_accuracy: 0.8510\n",
      "Epoch 14/130\n",
      "163/163 [==============================] - ETA: 0s - loss: 0.5937 - dense_4_loss: 0.2043 - dense_1_loss: 0.1908 - dense_3_loss: 0.1985 - dense_4_accuracy: 0.9176 - dense_1_accuracy: 0.9245 - dense_3_accuracy: 0.9181\n",
      "Epoch 14: val_dense_3_accuracy did not improve from 0.86378\n",
      "163/163 [==============================] - 24s 147ms/step - loss: 0.5937 - dense_4_loss: 0.2043 - dense_1_loss: 0.1908 - dense_3_loss: 0.1985 - dense_4_accuracy: 0.9176 - dense_1_accuracy: 0.9245 - dense_3_accuracy: 0.9181 - val_loss: 0.9774 - val_dense_4_loss: 0.3353 - val_dense_1_loss: 0.3109 - val_dense_3_loss: 0.3312 - val_dense_4_accuracy: 0.8478 - val_dense_1_accuracy: 0.8670 - val_dense_3_accuracy: 0.8381\n",
      "Epoch 15/130\n",
      "163/163 [==============================] - ETA: 0s - loss: 0.5923 - dense_4_loss: 0.2006 - dense_1_loss: 0.1920 - dense_3_loss: 0.1998 - dense_4_accuracy: 0.9202 - dense_1_accuracy: 0.9256 - dense_3_accuracy: 0.9233\n",
      "Epoch 15: val_dense_3_accuracy did not improve from 0.86378\n",
      "163/163 [==============================] - 24s 147ms/step - loss: 0.5923 - dense_4_loss: 0.2006 - dense_1_loss: 0.1920 - dense_3_loss: 0.1998 - dense_4_accuracy: 0.9202 - dense_1_accuracy: 0.9256 - dense_3_accuracy: 0.9233 - val_loss: 1.4423 - val_dense_4_loss: 0.4815 - val_dense_1_loss: 0.4657 - val_dense_3_loss: 0.4952 - val_dense_4_accuracy: 0.7420 - val_dense_1_accuracy: 0.7660 - val_dense_3_accuracy: 0.7436\n",
      "Epoch 16/130\n",
      "163/163 [==============================] - ETA: 0s - loss: 0.5979 - dense_4_loss: 0.2006 - dense_1_loss: 0.1964 - dense_3_loss: 0.2009 - dense_4_accuracy: 0.9229 - dense_1_accuracy: 0.9243 - dense_3_accuracy: 0.9266\n",
      "Epoch 16: val_dense_3_accuracy improved from 0.86378 to 0.87981, saving model to /kaggle/working/best_model.h5\n",
      "163/163 [==============================] - 24s 148ms/step - loss: 0.5979 - dense_4_loss: 0.2006 - dense_1_loss: 0.1964 - dense_3_loss: 0.2009 - dense_4_accuracy: 0.9229 - dense_1_accuracy: 0.9243 - dense_3_accuracy: 0.9266 - val_loss: 0.8373 - val_dense_4_loss: 0.2803 - val_dense_1_loss: 0.2778 - val_dense_3_loss: 0.2792 - val_dense_4_accuracy: 0.8862 - val_dense_1_accuracy: 0.8862 - val_dense_3_accuracy: 0.8798\n",
      "Epoch 17/130\n",
      "163/163 [==============================] - ETA: 0s - loss: 0.5223 - dense_4_loss: 0.1754 - dense_1_loss: 0.1709 - dense_3_loss: 0.1761 - dense_4_accuracy: 0.9327 - dense_1_accuracy: 0.9354 - dense_3_accuracy: 0.9317\n",
      "Epoch 17: val_dense_3_accuracy did not improve from 0.87981\n",
      "163/163 [==============================] - 24s 147ms/step - loss: 0.5223 - dense_4_loss: 0.1754 - dense_1_loss: 0.1709 - dense_3_loss: 0.1761 - dense_4_accuracy: 0.9327 - dense_1_accuracy: 0.9354 - dense_3_accuracy: 0.9317 - val_loss: 1.3435 - val_dense_4_loss: 0.4678 - val_dense_1_loss: 0.4317 - val_dense_3_loss: 0.4440 - val_dense_4_accuracy: 0.8045 - val_dense_1_accuracy: 0.8349 - val_dense_3_accuracy: 0.8189\n",
      "Epoch 18/130\n",
      "163/163 [==============================] - ETA: 0s - loss: 0.5173 - dense_4_loss: 0.1755 - dense_1_loss: 0.1701 - dense_3_loss: 0.1718 - dense_4_accuracy: 0.9333 - dense_1_accuracy: 0.9323 - dense_3_accuracy: 0.9340\n",
      "Epoch 18: val_dense_3_accuracy did not improve from 0.87981\n",
      "163/163 [==============================] - 24s 147ms/step - loss: 0.5173 - dense_4_loss: 0.1755 - dense_1_loss: 0.1701 - dense_3_loss: 0.1718 - dense_4_accuracy: 0.9333 - dense_1_accuracy: 0.9323 - dense_3_accuracy: 0.9340 - val_loss: 1.1777 - val_dense_4_loss: 0.3978 - val_dense_1_loss: 0.3987 - val_dense_3_loss: 0.3813 - val_dense_4_accuracy: 0.8253 - val_dense_1_accuracy: 0.8333 - val_dense_3_accuracy: 0.8349\n",
      "Epoch 19/130\n",
      "163/163 [==============================] - ETA: 0s - loss: 0.5110 - dense_4_loss: 0.1721 - dense_1_loss: 0.1687 - dense_3_loss: 0.1702 - dense_4_accuracy: 0.9348 - dense_1_accuracy: 0.9383 - dense_3_accuracy: 0.9350\n",
      "Epoch 19: val_dense_3_accuracy improved from 0.87981 to 0.88462, saving model to /kaggle/working/best_model.h5\n",
      "163/163 [==============================] - 24s 148ms/step - loss: 0.5110 - dense_4_loss: 0.1721 - dense_1_loss: 0.1687 - dense_3_loss: 0.1702 - dense_4_accuracy: 0.9348 - dense_1_accuracy: 0.9383 - dense_3_accuracy: 0.9350 - val_loss: 0.9433 - val_dense_4_loss: 0.3237 - val_dense_1_loss: 0.3012 - val_dense_3_loss: 0.3184 - val_dense_4_accuracy: 0.8766 - val_dense_1_accuracy: 0.8846 - val_dense_3_accuracy: 0.8846\n",
      "Epoch 20/130\n",
      "163/163 [==============================] - ETA: 0s - loss: 0.4983 - dense_4_loss: 0.1659 - dense_1_loss: 0.1666 - dense_3_loss: 0.1657 - dense_4_accuracy: 0.9408 - dense_1_accuracy: 0.9411 - dense_3_accuracy: 0.9415\n",
      "Epoch 20: val_dense_3_accuracy improved from 0.88462 to 0.88622, saving model to /kaggle/working/best_model.h5\n",
      "163/163 [==============================] - 25s 150ms/step - loss: 0.4983 - dense_4_loss: 0.1659 - dense_1_loss: 0.1666 - dense_3_loss: 0.1657 - dense_4_accuracy: 0.9408 - dense_1_accuracy: 0.9411 - dense_3_accuracy: 0.9415 - val_loss: 0.8094 - val_dense_4_loss: 0.2739 - val_dense_1_loss: 0.2726 - val_dense_3_loss: 0.2629 - val_dense_4_accuracy: 0.8814 - val_dense_1_accuracy: 0.8814 - val_dense_3_accuracy: 0.8862\n",
      "Epoch 21/130\n",
      "163/163 [==============================] - ETA: 0s - loss: 0.4982 - dense_4_loss: 0.1654 - dense_1_loss: 0.1667 - dense_3_loss: 0.1661 - dense_4_accuracy: 0.9390 - dense_1_accuracy: 0.9354 - dense_3_accuracy: 0.9392\n",
      "Epoch 21: val_dense_3_accuracy did not improve from 0.88622\n",
      "163/163 [==============================] - 24s 149ms/step - loss: 0.4982 - dense_4_loss: 0.1654 - dense_1_loss: 0.1667 - dense_3_loss: 0.1661 - dense_4_accuracy: 0.9390 - dense_1_accuracy: 0.9354 - dense_3_accuracy: 0.9392 - val_loss: 1.0713 - val_dense_4_loss: 0.3775 - val_dense_1_loss: 0.3234 - val_dense_3_loss: 0.3704 - val_dense_4_accuracy: 0.8606 - val_dense_1_accuracy: 0.8670 - val_dense_3_accuracy: 0.8606\n",
      "Epoch 22/130\n",
      "163/163 [==============================] - ETA: 0s - loss: 0.4644 - dense_4_loss: 0.1532 - dense_1_loss: 0.1582 - dense_3_loss: 0.1531 - dense_4_accuracy: 0.9469 - dense_1_accuracy: 0.9425 - dense_3_accuracy: 0.9452\n",
      "Epoch 22: val_dense_3_accuracy did not improve from 0.88622\n",
      "163/163 [==============================] - 24s 149ms/step - loss: 0.4644 - dense_4_loss: 0.1532 - dense_1_loss: 0.1582 - dense_3_loss: 0.1531 - dense_4_accuracy: 0.9469 - dense_1_accuracy: 0.9425 - dense_3_accuracy: 0.9452 - val_loss: 0.8296 - val_dense_4_loss: 0.2652 - val_dense_1_loss: 0.2875 - val_dense_3_loss: 0.2769 - val_dense_4_accuracy: 0.8878 - val_dense_1_accuracy: 0.8974 - val_dense_3_accuracy: 0.8814\n",
      "Epoch 23/130\n",
      "163/163 [==============================] - ETA: 0s - loss: 0.4730 - dense_4_loss: 0.1579 - dense_1_loss: 0.1580 - dense_3_loss: 0.1572 - dense_4_accuracy: 0.9436 - dense_1_accuracy: 0.9444 - dense_3_accuracy: 0.9456\n",
      "Epoch 23: val_dense_3_accuracy did not improve from 0.88622\n",
      "163/163 [==============================] - 25s 153ms/step - loss: 0.4730 - dense_4_loss: 0.1579 - dense_1_loss: 0.1580 - dense_3_loss: 0.1572 - dense_4_accuracy: 0.9436 - dense_1_accuracy: 0.9444 - dense_3_accuracy: 0.9456 - val_loss: 0.8570 - val_dense_4_loss: 0.2758 - val_dense_1_loss: 0.2861 - val_dense_3_loss: 0.2951 - val_dense_4_accuracy: 0.9038 - val_dense_1_accuracy: 0.8926 - val_dense_3_accuracy: 0.8862\n",
      "Epoch 24/130\n",
      "163/163 [==============================] - ETA: 0s - loss: 0.4608 - dense_4_loss: 0.1518 - dense_1_loss: 0.1570 - dense_3_loss: 0.1520 - dense_4_accuracy: 0.9429 - dense_1_accuracy: 0.9402 - dense_3_accuracy: 0.9410\n",
      "Epoch 24: val_dense_3_accuracy did not improve from 0.88622\n",
      "163/163 [==============================] - 25s 150ms/step - loss: 0.4608 - dense_4_loss: 0.1518 - dense_1_loss: 0.1570 - dense_3_loss: 0.1520 - dense_4_accuracy: 0.9429 - dense_1_accuracy: 0.9402 - dense_3_accuracy: 0.9410 - val_loss: 0.8282 - val_dense_4_loss: 0.2787 - val_dense_1_loss: 0.2811 - val_dense_3_loss: 0.2684 - val_dense_4_accuracy: 0.8734 - val_dense_1_accuracy: 0.8814 - val_dense_3_accuracy: 0.8782\n",
      "Epoch 25/130\n",
      "163/163 [==============================] - ETA: 0s - loss: 0.4521 - dense_4_loss: 0.1488 - dense_1_loss: 0.1556 - dense_3_loss: 0.1477 - dense_4_accuracy: 0.9408 - dense_1_accuracy: 0.9415 - dense_3_accuracy: 0.9442\n",
      "Epoch 25: val_dense_3_accuracy improved from 0.88622 to 0.90865, saving model to /kaggle/working/best_model.h5\n",
      "163/163 [==============================] - 25s 155ms/step - loss: 0.4521 - dense_4_loss: 0.1488 - dense_1_loss: 0.1556 - dense_3_loss: 0.1477 - dense_4_accuracy: 0.9408 - dense_1_accuracy: 0.9415 - dense_3_accuracy: 0.9442 - val_loss: 0.9411 - val_dense_4_loss: 0.3286 - val_dense_1_loss: 0.3078 - val_dense_3_loss: 0.3047 - val_dense_4_accuracy: 0.9038 - val_dense_1_accuracy: 0.8990 - val_dense_3_accuracy: 0.9087\n",
      "Epoch 26/130\n",
      "163/163 [==============================] - ETA: 0s - loss: 0.4601 - dense_4_loss: 0.1500 - dense_1_loss: 0.1577 - dense_3_loss: 0.1525 - dense_4_accuracy: 0.9467 - dense_1_accuracy: 0.9436 - dense_3_accuracy: 0.9463\n",
      "Epoch 26: val_dense_3_accuracy did not improve from 0.90865\n",
      "163/163 [==============================] - 24s 150ms/step - loss: 0.4601 - dense_4_loss: 0.1500 - dense_1_loss: 0.1577 - dense_3_loss: 0.1525 - dense_4_accuracy: 0.9467 - dense_1_accuracy: 0.9436 - dense_3_accuracy: 0.9463 - val_loss: 0.8492 - val_dense_4_loss: 0.2824 - val_dense_1_loss: 0.2746 - val_dense_3_loss: 0.2923 - val_dense_4_accuracy: 0.8862 - val_dense_1_accuracy: 0.8926 - val_dense_3_accuracy: 0.8846\n",
      "Epoch 27/130\n",
      "163/163 [==============================] - ETA: 0s - loss: 0.4477 - dense_4_loss: 0.1439 - dense_1_loss: 0.1539 - dense_3_loss: 0.1499 - dense_4_accuracy: 0.9456 - dense_1_accuracy: 0.9423 - dense_3_accuracy: 0.9444\n",
      "Epoch 27: val_dense_3_accuracy did not improve from 0.90865\n",
      "163/163 [==============================] - 24s 149ms/step - loss: 0.4477 - dense_4_loss: 0.1439 - dense_1_loss: 0.1539 - dense_3_loss: 0.1499 - dense_4_accuracy: 0.9456 - dense_1_accuracy: 0.9423 - dense_3_accuracy: 0.9444 - val_loss: 1.0309 - val_dense_4_loss: 0.3448 - val_dense_1_loss: 0.3201 - val_dense_3_loss: 0.3659 - val_dense_4_accuracy: 0.8638 - val_dense_1_accuracy: 0.8830 - val_dense_3_accuracy: 0.8830\n",
      "Epoch 28/130\n",
      "163/163 [==============================] - ETA: 0s - loss: 0.4672 - dense_4_loss: 0.1531 - dense_1_loss: 0.1609 - dense_3_loss: 0.1532 - dense_4_accuracy: 0.9385 - dense_1_accuracy: 0.9398 - dense_3_accuracy: 0.9415\n",
      "Epoch 28: val_dense_3_accuracy did not improve from 0.90865\n",
      "163/163 [==============================] - 25s 151ms/step - loss: 0.4672 - dense_4_loss: 0.1531 - dense_1_loss: 0.1609 - dense_3_loss: 0.1532 - dense_4_accuracy: 0.9385 - dense_1_accuracy: 0.9398 - dense_3_accuracy: 0.9415 - val_loss: 0.7915 - val_dense_4_loss: 0.2517 - val_dense_1_loss: 0.2929 - val_dense_3_loss: 0.2469 - val_dense_4_accuracy: 0.9071 - val_dense_1_accuracy: 0.8974 - val_dense_3_accuracy: 0.9022\n",
      "Epoch 29/130\n",
      "163/163 [==============================] - ETA: 0s - loss: 0.4480 - dense_4_loss: 0.1462 - dense_1_loss: 0.1546 - dense_3_loss: 0.1472 - dense_4_accuracy: 0.9452 - dense_1_accuracy: 0.9406 - dense_3_accuracy: 0.9473\n",
      "Epoch 29: val_dense_3_accuracy did not improve from 0.90865\n",
      "163/163 [==============================] - 24s 148ms/step - loss: 0.4480 - dense_4_loss: 0.1462 - dense_1_loss: 0.1546 - dense_3_loss: 0.1472 - dense_4_accuracy: 0.9452 - dense_1_accuracy: 0.9406 - dense_3_accuracy: 0.9473 - val_loss: 0.7863 - val_dense_4_loss: 0.2634 - val_dense_1_loss: 0.2672 - val_dense_3_loss: 0.2557 - val_dense_4_accuracy: 0.8990 - val_dense_1_accuracy: 0.8894 - val_dense_3_accuracy: 0.8990\n",
      "Epoch 30/130\n",
      "163/163 [==============================] - ETA: 0s - loss: 0.4441 - dense_4_loss: 0.1421 - dense_1_loss: 0.1583 - dense_3_loss: 0.1436 - dense_4_accuracy: 0.9469 - dense_1_accuracy: 0.9390 - dense_3_accuracy: 0.9486\n",
      "Epoch 30: val_dense_3_accuracy did not improve from 0.90865\n",
      "163/163 [==============================] - 24s 148ms/step - loss: 0.4441 - dense_4_loss: 0.1421 - dense_1_loss: 0.1583 - dense_3_loss: 0.1436 - dense_4_accuracy: 0.9469 - dense_1_accuracy: 0.9390 - dense_3_accuracy: 0.9486 - val_loss: 0.8128 - val_dense_4_loss: 0.2519 - val_dense_1_loss: 0.3148 - val_dense_3_loss: 0.2461 - val_dense_4_accuracy: 0.9038 - val_dense_1_accuracy: 0.8862 - val_dense_3_accuracy: 0.9087\n",
      "Epoch 31/130\n",
      "163/163 [==============================] - ETA: 0s - loss: 0.4152 - dense_4_loss: 0.1321 - dense_1_loss: 0.1441 - dense_3_loss: 0.1391 - dense_4_accuracy: 0.9517 - dense_1_accuracy: 0.9477 - dense_3_accuracy: 0.9530\n",
      "Epoch 31: val_dense_3_accuracy did not improve from 0.90865\n",
      "163/163 [==============================] - 24s 148ms/step - loss: 0.4152 - dense_4_loss: 0.1321 - dense_1_loss: 0.1441 - dense_3_loss: 0.1391 - dense_4_accuracy: 0.9517 - dense_1_accuracy: 0.9477 - dense_3_accuracy: 0.9530 - val_loss: 7.0610 - val_dense_4_loss: 2.0733 - val_dense_1_loss: 3.0572 - val_dense_3_loss: 1.9304 - val_dense_4_accuracy: 0.6378 - val_dense_1_accuracy: 0.6378 - val_dense_3_accuracy: 0.6378\n",
      "Epoch 32/130\n",
      "163/163 [==============================] - ETA: 0s - loss: 0.4419 - dense_4_loss: 0.1430 - dense_1_loss: 0.1541 - dense_3_loss: 0.1448 - dense_4_accuracy: 0.9463 - dense_1_accuracy: 0.9448 - dense_3_accuracy: 0.9488\n",
      "Epoch 32: val_dense_3_accuracy did not improve from 0.90865\n",
      "163/163 [==============================] - 24s 150ms/step - loss: 0.4419 - dense_4_loss: 0.1430 - dense_1_loss: 0.1541 - dense_3_loss: 0.1448 - dense_4_accuracy: 0.9463 - dense_1_accuracy: 0.9448 - dense_3_accuracy: 0.9488 - val_loss: 1.6521 - val_dense_4_loss: 0.5750 - val_dense_1_loss: 0.5575 - val_dense_3_loss: 0.5196 - val_dense_4_accuracy: 0.7917 - val_dense_1_accuracy: 0.8093 - val_dense_3_accuracy: 0.8141\n",
      "Epoch 33/130\n",
      "163/163 [==============================] - ETA: 0s - loss: 0.4277 - dense_4_loss: 0.1356 - dense_1_loss: 0.1485 - dense_3_loss: 0.1435 - dense_4_accuracy: 0.9494 - dense_1_accuracy: 0.9490 - dense_3_accuracy: 0.9494\n",
      "Epoch 33: val_dense_3_accuracy did not improve from 0.90865\n",
      "163/163 [==============================] - 25s 154ms/step - loss: 0.4277 - dense_4_loss: 0.1356 - dense_1_loss: 0.1485 - dense_3_loss: 0.1435 - dense_4_accuracy: 0.9494 - dense_1_accuracy: 0.9490 - dense_3_accuracy: 0.9494 - val_loss: 0.7714 - val_dense_4_loss: 0.2505 - val_dense_1_loss: 0.2777 - val_dense_3_loss: 0.2432 - val_dense_4_accuracy: 0.8910 - val_dense_1_accuracy: 0.8974 - val_dense_3_accuracy: 0.8974\n",
      "Epoch 34/130\n",
      "163/163 [==============================] - ETA: 0s - loss: 0.4198 - dense_4_loss: 0.1332 - dense_1_loss: 0.1483 - dense_3_loss: 0.1383 - dense_4_accuracy: 0.9530 - dense_1_accuracy: 0.9452 - dense_3_accuracy: 0.9509\n",
      "Epoch 34: val_dense_3_accuracy did not improve from 0.90865\n",
      "163/163 [==============================] - 25s 153ms/step - loss: 0.4198 - dense_4_loss: 0.1332 - dense_1_loss: 0.1483 - dense_3_loss: 0.1383 - dense_4_accuracy: 0.9530 - dense_1_accuracy: 0.9452 - dense_3_accuracy: 0.9509 - val_loss: 0.7839 - val_dense_4_loss: 0.2570 - val_dense_1_loss: 0.2713 - val_dense_3_loss: 0.2556 - val_dense_4_accuracy: 0.8974 - val_dense_1_accuracy: 0.9006 - val_dense_3_accuracy: 0.9006\n",
      "Epoch 35/130\n",
      "163/163 [==============================] - ETA: 0s - loss: 0.4302 - dense_4_loss: 0.1370 - dense_1_loss: 0.1484 - dense_3_loss: 0.1448 - dense_4_accuracy: 0.9509 - dense_1_accuracy: 0.9461 - dense_3_accuracy: 0.9484\n",
      "Epoch 35: val_dense_3_accuracy did not improve from 0.90865\n",
      "163/163 [==============================] - 25s 150ms/step - loss: 0.4302 - dense_4_loss: 0.1370 - dense_1_loss: 0.1484 - dense_3_loss: 0.1448 - dense_4_accuracy: 0.9509 - dense_1_accuracy: 0.9461 - dense_3_accuracy: 0.9484 - val_loss: 0.7047 - val_dense_4_loss: 0.2364 - val_dense_1_loss: 0.2353 - val_dense_3_loss: 0.2331 - val_dense_4_accuracy: 0.8990 - val_dense_1_accuracy: 0.9006 - val_dense_3_accuracy: 0.9022\n",
      "Epoch 36/130\n",
      "163/163 [==============================] - ETA: 0s - loss: 0.3873 - dense_4_loss: 0.1201 - dense_1_loss: 0.1408 - dense_3_loss: 0.1265 - dense_4_accuracy: 0.9567 - dense_1_accuracy: 0.9519 - dense_3_accuracy: 0.9538\n",
      "Epoch 36: val_dense_3_accuracy did not improve from 0.90865\n",
      "163/163 [==============================] - 24s 150ms/step - loss: 0.3873 - dense_4_loss: 0.1201 - dense_1_loss: 0.1408 - dense_3_loss: 0.1265 - dense_4_accuracy: 0.9567 - dense_1_accuracy: 0.9519 - dense_3_accuracy: 0.9538 - val_loss: 0.8058 - val_dense_4_loss: 0.2618 - val_dense_1_loss: 0.2723 - val_dense_3_loss: 0.2717 - val_dense_4_accuracy: 0.8878 - val_dense_1_accuracy: 0.8798 - val_dense_3_accuracy: 0.8782\n",
      "Epoch 37/130\n",
      "163/163 [==============================] - ETA: 0s - loss: 0.4101 - dense_4_loss: 0.1284 - dense_1_loss: 0.1476 - dense_3_loss: 0.1341 - dense_4_accuracy: 0.9551 - dense_1_accuracy: 0.9486 - dense_3_accuracy: 0.9523\n",
      "Epoch 37: val_dense_3_accuracy did not improve from 0.90865\n",
      "163/163 [==============================] - 24s 149ms/step - loss: 0.4101 - dense_4_loss: 0.1284 - dense_1_loss: 0.1476 - dense_3_loss: 0.1341 - dense_4_accuracy: 0.9551 - dense_1_accuracy: 0.9486 - dense_3_accuracy: 0.9523 - val_loss: 1.0677 - val_dense_4_loss: 0.3429 - val_dense_1_loss: 0.3168 - val_dense_3_loss: 0.4080 - val_dense_4_accuracy: 0.8606 - val_dense_1_accuracy: 0.8878 - val_dense_3_accuracy: 0.8638\n",
      "Epoch 38/130\n",
      "163/163 [==============================] - ETA: 0s - loss: 0.3760 - dense_4_loss: 0.1196 - dense_1_loss: 0.1344 - dense_3_loss: 0.1220 - dense_4_accuracy: 0.9561 - dense_1_accuracy: 0.9549 - dense_3_accuracy: 0.9563\n",
      "Epoch 38: val_dense_3_accuracy did not improve from 0.90865\n",
      "163/163 [==============================] - 24s 148ms/step - loss: 0.3760 - dense_4_loss: 0.1196 - dense_1_loss: 0.1344 - dense_3_loss: 0.1220 - dense_4_accuracy: 0.9561 - dense_1_accuracy: 0.9549 - dense_3_accuracy: 0.9563 - val_loss: 0.8340 - val_dense_4_loss: 0.2693 - val_dense_1_loss: 0.2700 - val_dense_3_loss: 0.2948 - val_dense_4_accuracy: 0.9006 - val_dense_1_accuracy: 0.8926 - val_dense_3_accuracy: 0.8910\n",
      "Epoch 39/130\n",
      "163/163 [==============================] - ETA: 0s - loss: 0.4116 - dense_4_loss: 0.1305 - dense_1_loss: 0.1445 - dense_3_loss: 0.1366 - dense_4_accuracy: 0.9534 - dense_1_accuracy: 0.9517 - dense_3_accuracy: 0.9538\n",
      "Epoch 39: val_dense_3_accuracy did not improve from 0.90865\n",
      "163/163 [==============================] - 24s 149ms/step - loss: 0.4116 - dense_4_loss: 0.1305 - dense_1_loss: 0.1445 - dense_3_loss: 0.1366 - dense_4_accuracy: 0.9534 - dense_1_accuracy: 0.9517 - dense_3_accuracy: 0.9538 - val_loss: 0.6945 - val_dense_4_loss: 0.2295 - val_dense_1_loss: 0.2351 - val_dense_3_loss: 0.2299 - val_dense_4_accuracy: 0.9054 - val_dense_1_accuracy: 0.8974 - val_dense_3_accuracy: 0.9022\n",
      "Epoch 40/130\n",
      "163/163 [==============================] - ETA: 0s - loss: 0.3939 - dense_4_loss: 0.1227 - dense_1_loss: 0.1394 - dense_3_loss: 0.1318 - dense_4_accuracy: 0.9532 - dense_1_accuracy: 0.9488 - dense_3_accuracy: 0.9530\n",
      "Epoch 40: val_dense_3_accuracy did not improve from 0.90865\n",
      "163/163 [==============================] - 24s 148ms/step - loss: 0.3939 - dense_4_loss: 0.1227 - dense_1_loss: 0.1394 - dense_3_loss: 0.1318 - dense_4_accuracy: 0.9532 - dense_1_accuracy: 0.9488 - dense_3_accuracy: 0.9530 - val_loss: 1.1031 - val_dense_4_loss: 0.3450 - val_dense_1_loss: 0.3887 - val_dense_3_loss: 0.3694 - val_dense_4_accuracy: 0.8958 - val_dense_1_accuracy: 0.8910 - val_dense_3_accuracy: 0.8894\n",
      "Epoch 41/130\n",
      "163/163 [==============================] - ETA: 0s - loss: 0.3960 - dense_4_loss: 0.1252 - dense_1_loss: 0.1380 - dense_3_loss: 0.1328 - dense_4_accuracy: 0.9528 - dense_1_accuracy: 0.9482 - dense_3_accuracy: 0.9511\n",
      "Epoch 41: val_dense_3_accuracy improved from 0.90865 to 0.91186, saving model to /kaggle/working/best_model.h5\n",
      "163/163 [==============================] - 25s 151ms/step - loss: 0.3960 - dense_4_loss: 0.1252 - dense_1_loss: 0.1380 - dense_3_loss: 0.1328 - dense_4_accuracy: 0.9528 - dense_1_accuracy: 0.9482 - dense_3_accuracy: 0.9511 - val_loss: 0.6480 - val_dense_4_loss: 0.2185 - val_dense_1_loss: 0.2171 - val_dense_3_loss: 0.2124 - val_dense_4_accuracy: 0.9103 - val_dense_1_accuracy: 0.9135 - val_dense_3_accuracy: 0.9119\n",
      "Epoch 42/130\n",
      "163/163 [==============================] - ETA: 0s - loss: 0.3983 - dense_4_loss: 0.1249 - dense_1_loss: 0.1459 - dense_3_loss: 0.1275 - dense_4_accuracy: 0.9588 - dense_1_accuracy: 0.9502 - dense_3_accuracy: 0.9574\n",
      "Epoch 42: val_dense_3_accuracy did not improve from 0.91186\n",
      "163/163 [==============================] - 24s 149ms/step - loss: 0.3983 - dense_4_loss: 0.1249 - dense_1_loss: 0.1459 - dense_3_loss: 0.1275 - dense_4_accuracy: 0.9588 - dense_1_accuracy: 0.9502 - dense_3_accuracy: 0.9574 - val_loss: 0.9270 - val_dense_4_loss: 0.2921 - val_dense_1_loss: 0.2955 - val_dense_3_loss: 0.3395 - val_dense_4_accuracy: 0.8734 - val_dense_1_accuracy: 0.8654 - val_dense_3_accuracy: 0.8670\n",
      "Epoch 43/130\n",
      "163/163 [==============================] - ETA: 0s - loss: 0.3799 - dense_4_loss: 0.1228 - dense_1_loss: 0.1297 - dense_3_loss: 0.1274 - dense_4_accuracy: 0.9578 - dense_1_accuracy: 0.9521 - dense_3_accuracy: 0.9546\n",
      "Epoch 43: val_dense_3_accuracy did not improve from 0.91186\n",
      "163/163 [==============================] - 24s 149ms/step - loss: 0.3799 - dense_4_loss: 0.1228 - dense_1_loss: 0.1297 - dense_3_loss: 0.1274 - dense_4_accuracy: 0.9578 - dense_1_accuracy: 0.9521 - dense_3_accuracy: 0.9546 - val_loss: 0.8214 - val_dense_4_loss: 0.2526 - val_dense_1_loss: 0.3020 - val_dense_3_loss: 0.2668 - val_dense_4_accuracy: 0.9054 - val_dense_1_accuracy: 0.9038 - val_dense_3_accuracy: 0.9103\n",
      "Epoch 44/130\n",
      "163/163 [==============================] - ETA: 0s - loss: 0.4075 - dense_4_loss: 0.1243 - dense_1_loss: 0.1467 - dense_3_loss: 0.1365 - dense_4_accuracy: 0.9513 - dense_1_accuracy: 0.9457 - dense_3_accuracy: 0.9540\n",
      "Epoch 44: val_dense_3_accuracy did not improve from 0.91186\n",
      "163/163 [==============================] - 24s 149ms/step - loss: 0.4075 - dense_4_loss: 0.1243 - dense_1_loss: 0.1467 - dense_3_loss: 0.1365 - dense_4_accuracy: 0.9513 - dense_1_accuracy: 0.9457 - dense_3_accuracy: 0.9540 - val_loss: 0.9939 - val_dense_4_loss: 0.2990 - val_dense_1_loss: 0.3754 - val_dense_3_loss: 0.3195 - val_dense_4_accuracy: 0.8910 - val_dense_1_accuracy: 0.8702 - val_dense_3_accuracy: 0.8894\n",
      "Epoch 45/130\n",
      "163/163 [==============================] - ETA: 0s - loss: 0.4004 - dense_4_loss: 0.1238 - dense_1_loss: 0.1438 - dense_3_loss: 0.1328 - dense_4_accuracy: 0.9548 - dense_1_accuracy: 0.9509 - dense_3_accuracy: 0.9546\n",
      "Epoch 45: val_dense_3_accuracy did not improve from 0.91186\n",
      "163/163 [==============================] - 24s 149ms/step - loss: 0.4004 - dense_4_loss: 0.1238 - dense_1_loss: 0.1438 - dense_3_loss: 0.1328 - dense_4_accuracy: 0.9548 - dense_1_accuracy: 0.9509 - dense_3_accuracy: 0.9546 - val_loss: 0.6854 - val_dense_4_loss: 0.2249 - val_dense_1_loss: 0.2284 - val_dense_3_loss: 0.2321 - val_dense_4_accuracy: 0.9038 - val_dense_1_accuracy: 0.9071 - val_dense_3_accuracy: 0.9054\n",
      "Epoch 46/130\n",
      "163/163 [==============================] - ETA: 0s - loss: 0.3954 - dense_4_loss: 0.1261 - dense_1_loss: 0.1364 - dense_3_loss: 0.1329 - dense_4_accuracy: 0.9572 - dense_1_accuracy: 0.9525 - dense_3_accuracy: 0.9553\n",
      "Epoch 46: val_dense_3_accuracy did not improve from 0.91186\n",
      "163/163 [==============================] - 24s 149ms/step - loss: 0.3954 - dense_4_loss: 0.1261 - dense_1_loss: 0.1364 - dense_3_loss: 0.1329 - dense_4_accuracy: 0.9572 - dense_1_accuracy: 0.9525 - dense_3_accuracy: 0.9553 - val_loss: 1.0246 - val_dense_4_loss: 0.2865 - val_dense_1_loss: 0.4537 - val_dense_3_loss: 0.2844 - val_dense_4_accuracy: 0.8830 - val_dense_1_accuracy: 0.8622 - val_dense_3_accuracy: 0.8894\n",
      "Epoch 47/130\n",
      "163/163 [==============================] - ETA: 0s - loss: 0.3896 - dense_4_loss: 0.1214 - dense_1_loss: 0.1382 - dense_3_loss: 0.1300 - dense_4_accuracy: 0.9582 - dense_1_accuracy: 0.9509 - dense_3_accuracy: 0.9578\n",
      "Epoch 47: val_dense_3_accuracy did not improve from 0.91186\n",
      "163/163 [==============================] - 24s 147ms/step - loss: 0.3896 - dense_4_loss: 0.1214 - dense_1_loss: 0.1382 - dense_3_loss: 0.1300 - dense_4_accuracy: 0.9582 - dense_1_accuracy: 0.9509 - dense_3_accuracy: 0.9578 - val_loss: 0.6939 - val_dense_4_loss: 0.2253 - val_dense_1_loss: 0.2281 - val_dense_3_loss: 0.2406 - val_dense_4_accuracy: 0.9071 - val_dense_1_accuracy: 0.9022 - val_dense_3_accuracy: 0.9022\n",
      "Epoch 48/130\n",
      "163/163 [==============================] - ETA: 0s - loss: 0.3697 - dense_4_loss: 0.1121 - dense_1_loss: 0.1346 - dense_3_loss: 0.1229 - dense_4_accuracy: 0.9630 - dense_1_accuracy: 0.9513 - dense_3_accuracy: 0.9595\n",
      "Epoch 48: val_dense_3_accuracy improved from 0.91186 to 0.92628, saving model to /kaggle/working/best_model.h5\n",
      "163/163 [==============================] - 25s 151ms/step - loss: 0.3697 - dense_4_loss: 0.1121 - dense_1_loss: 0.1346 - dense_3_loss: 0.1229 - dense_4_accuracy: 0.9630 - dense_1_accuracy: 0.9513 - dense_3_accuracy: 0.9595 - val_loss: 0.7848 - val_dense_4_loss: 0.2330 - val_dense_1_loss: 0.2845 - val_dense_3_loss: 0.2673 - val_dense_4_accuracy: 0.9199 - val_dense_1_accuracy: 0.9167 - val_dense_3_accuracy: 0.9263\n",
      "Epoch 49/130\n",
      "163/163 [==============================] - ETA: 0s - loss: 0.3916 - dense_4_loss: 0.1224 - dense_1_loss: 0.1367 - dense_3_loss: 0.1325 - dense_4_accuracy: 0.9538 - dense_1_accuracy: 0.9498 - dense_3_accuracy: 0.9517\n",
      "Epoch 49: val_dense_3_accuracy did not improve from 0.92628\n",
      "163/163 [==============================] - 24s 148ms/step - loss: 0.3916 - dense_4_loss: 0.1224 - dense_1_loss: 0.1367 - dense_3_loss: 0.1325 - dense_4_accuracy: 0.9538 - dense_1_accuracy: 0.9498 - dense_3_accuracy: 0.9517 - val_loss: 1.1088 - val_dense_4_loss: 0.3343 - val_dense_1_loss: 0.4042 - val_dense_3_loss: 0.3704 - val_dense_4_accuracy: 0.8654 - val_dense_1_accuracy: 0.8526 - val_dense_3_accuracy: 0.8590\n",
      "Epoch 50/130\n",
      "163/163 [==============================] - ETA: 0s - loss: 0.3828 - dense_4_loss: 0.1174 - dense_1_loss: 0.1355 - dense_3_loss: 0.1299 - dense_4_accuracy: 0.9599 - dense_1_accuracy: 0.9519 - dense_3_accuracy: 0.9580\n",
      "Epoch 50: val_dense_3_accuracy did not improve from 0.92628\n",
      "163/163 [==============================] - 24s 147ms/step - loss: 0.3828 - dense_4_loss: 0.1174 - dense_1_loss: 0.1355 - dense_3_loss: 0.1299 - dense_4_accuracy: 0.9599 - dense_1_accuracy: 0.9519 - dense_3_accuracy: 0.9580 - val_loss: 1.2249 - val_dense_4_loss: 0.3655 - val_dense_1_loss: 0.4389 - val_dense_3_loss: 0.4204 - val_dense_4_accuracy: 0.8958 - val_dense_1_accuracy: 0.9038 - val_dense_3_accuracy: 0.9006\n",
      "Epoch 51/130\n",
      "163/163 [==============================] - ETA: 0s - loss: 0.3811 - dense_4_loss: 0.1178 - dense_1_loss: 0.1369 - dense_3_loss: 0.1264 - dense_4_accuracy: 0.9565 - dense_1_accuracy: 0.9521 - dense_3_accuracy: 0.9536\n",
      "Epoch 51: val_dense_3_accuracy did not improve from 0.92628\n",
      "163/163 [==============================] - 24s 149ms/step - loss: 0.3811 - dense_4_loss: 0.1178 - dense_1_loss: 0.1369 - dense_3_loss: 0.1264 - dense_4_accuracy: 0.9565 - dense_1_accuracy: 0.9521 - dense_3_accuracy: 0.9536 - val_loss: 0.9317 - val_dense_4_loss: 0.2744 - val_dense_1_loss: 0.3685 - val_dense_3_loss: 0.2888 - val_dense_4_accuracy: 0.9103 - val_dense_1_accuracy: 0.8926 - val_dense_3_accuracy: 0.9103\n",
      "Epoch 52/130\n",
      "163/163 [==============================] - ETA: 0s - loss: 0.3726 - dense_4_loss: 0.1137 - dense_1_loss: 0.1368 - dense_3_loss: 0.1220 - dense_4_accuracy: 0.9640 - dense_1_accuracy: 0.9553 - dense_3_accuracy: 0.9615\n",
      "Epoch 52: val_dense_3_accuracy did not improve from 0.92628\n",
      "163/163 [==============================] - 24s 149ms/step - loss: 0.3726 - dense_4_loss: 0.1137 - dense_1_loss: 0.1368 - dense_3_loss: 0.1220 - dense_4_accuracy: 0.9640 - dense_1_accuracy: 0.9553 - dense_3_accuracy: 0.9615 - val_loss: 1.3541 - val_dense_4_loss: 0.4624 - val_dense_1_loss: 0.4303 - val_dense_3_loss: 0.4614 - val_dense_4_accuracy: 0.8782 - val_dense_1_accuracy: 0.8814 - val_dense_3_accuracy: 0.8958\n",
      "Epoch 53/130\n",
      "163/163 [==============================] - ETA: 0s - loss: 0.3911 - dense_4_loss: 0.1214 - dense_1_loss: 0.1377 - dense_3_loss: 0.1321 - dense_4_accuracy: 0.9572 - dense_1_accuracy: 0.9519 - dense_3_accuracy: 0.9546\n",
      "Epoch 53: val_dense_3_accuracy did not improve from 0.92628\n",
      "163/163 [==============================] - 24s 148ms/step - loss: 0.3911 - dense_4_loss: 0.1214 - dense_1_loss: 0.1377 - dense_3_loss: 0.1321 - dense_4_accuracy: 0.9572 - dense_1_accuracy: 0.9519 - dense_3_accuracy: 0.9546 - val_loss: 1.0045 - val_dense_4_loss: 0.2619 - val_dense_1_loss: 0.4901 - val_dense_3_loss: 0.2525 - val_dense_4_accuracy: 0.9103 - val_dense_1_accuracy: 0.8814 - val_dense_3_accuracy: 0.9038\n",
      "Epoch 54/130\n",
      "163/163 [==============================] - ETA: 0s - loss: 0.3919 - dense_4_loss: 0.1258 - dense_1_loss: 0.1340 - dense_3_loss: 0.1321 - dense_4_accuracy: 0.9580 - dense_1_accuracy: 0.9578 - dense_3_accuracy: 0.9597\n",
      "Epoch 54: val_dense_3_accuracy did not improve from 0.92628\n",
      "163/163 [==============================] - 24s 149ms/step - loss: 0.3919 - dense_4_loss: 0.1258 - dense_1_loss: 0.1340 - dense_3_loss: 0.1321 - dense_4_accuracy: 0.9580 - dense_1_accuracy: 0.9578 - dense_3_accuracy: 0.9597 - val_loss: 0.8009 - val_dense_4_loss: 0.2485 - val_dense_1_loss: 0.3071 - val_dense_3_loss: 0.2453 - val_dense_4_accuracy: 0.9038 - val_dense_1_accuracy: 0.9231 - val_dense_3_accuracy: 0.9071\n",
      "Epoch 55/130\n",
      "163/163 [==============================] - ETA: 0s - loss: 0.4113 - dense_4_loss: 0.1293 - dense_1_loss: 0.1483 - dense_3_loss: 0.1338 - dense_4_accuracy: 0.9546 - dense_1_accuracy: 0.9505 - dense_3_accuracy: 0.9538\n",
      "Epoch 55: val_dense_3_accuracy did not improve from 0.92628\n",
      "163/163 [==============================] - 24s 146ms/step - loss: 0.4113 - dense_4_loss: 0.1293 - dense_1_loss: 0.1483 - dense_3_loss: 0.1338 - dense_4_accuracy: 0.9546 - dense_1_accuracy: 0.9505 - dense_3_accuracy: 0.9538 - val_loss: 1.5153 - val_dense_4_loss: 0.5212 - val_dense_1_loss: 0.4785 - val_dense_3_loss: 0.5156 - val_dense_4_accuracy: 0.8221 - val_dense_1_accuracy: 0.8221 - val_dense_3_accuracy: 0.8237\n",
      "Epoch 56/130\n",
      "163/163 [==============================] - ETA: 0s - loss: 0.3836 - dense_4_loss: 0.1140 - dense_1_loss: 0.1420 - dense_3_loss: 0.1275 - dense_4_accuracy: 0.9601 - dense_1_accuracy: 0.9551 - dense_3_accuracy: 0.9586\n",
      "Epoch 56: val_dense_3_accuracy did not improve from 0.92628\n",
      "163/163 [==============================] - 24s 148ms/step - loss: 0.3836 - dense_4_loss: 0.1140 - dense_1_loss: 0.1420 - dense_3_loss: 0.1275 - dense_4_accuracy: 0.9601 - dense_1_accuracy: 0.9551 - dense_3_accuracy: 0.9586 - val_loss: 0.7198 - val_dense_4_loss: 0.2128 - val_dense_1_loss: 0.2669 - val_dense_3_loss: 0.2401 - val_dense_4_accuracy: 0.9087 - val_dense_1_accuracy: 0.9038 - val_dense_3_accuracy: 0.9151\n",
      "Epoch 57/130\n",
      "163/163 [==============================] - ETA: 0s - loss: 0.4309 - dense_4_loss: 0.1322 - dense_1_loss: 0.1373 - dense_3_loss: 0.1614 - dense_4_accuracy: 0.9538 - dense_1_accuracy: 0.9509 - dense_3_accuracy: 0.9540\n",
      "Epoch 57: val_dense_3_accuracy did not improve from 0.92628\n",
      "163/163 [==============================] - 24s 147ms/step - loss: 0.4309 - dense_4_loss: 0.1322 - dense_1_loss: 0.1373 - dense_3_loss: 0.1614 - dense_4_accuracy: 0.9538 - dense_1_accuracy: 0.9509 - dense_3_accuracy: 0.9540 - val_loss: 1.0734 - val_dense_4_loss: 0.3045 - val_dense_1_loss: 0.4297 - val_dense_3_loss: 0.3392 - val_dense_4_accuracy: 0.8958 - val_dense_1_accuracy: 0.8734 - val_dense_3_accuracy: 0.8958\n",
      "Epoch 58/130\n",
      "163/163 [==============================] - ETA: 0s - loss: 0.4157 - dense_4_loss: 0.1244 - dense_1_loss: 0.1542 - dense_3_loss: 0.1372 - dense_4_accuracy: 0.9580 - dense_1_accuracy: 0.9502 - dense_3_accuracy: 0.9538\n",
      "Epoch 58: val_dense_3_accuracy did not improve from 0.92628\n",
      "163/163 [==============================] - 24s 149ms/step - loss: 0.4157 - dense_4_loss: 0.1244 - dense_1_loss: 0.1542 - dense_3_loss: 0.1372 - dense_4_accuracy: 0.9580 - dense_1_accuracy: 0.9502 - dense_3_accuracy: 0.9538 - val_loss: 0.7720 - val_dense_4_loss: 0.2375 - val_dense_1_loss: 0.2458 - val_dense_3_loss: 0.2886 - val_dense_4_accuracy: 0.9054 - val_dense_1_accuracy: 0.8974 - val_dense_3_accuracy: 0.8942\n",
      "Epoch 59/130\n",
      "163/163 [==============================] - ETA: 0s - loss: 0.4224 - dense_4_loss: 0.1269 - dense_1_loss: 0.1546 - dense_3_loss: 0.1409 - dense_4_accuracy: 0.9536 - dense_1_accuracy: 0.9479 - dense_3_accuracy: 0.9500\n",
      "Epoch 59: val_dense_3_accuracy did not improve from 0.92628\n",
      "163/163 [==============================] - 24s 148ms/step - loss: 0.4224 - dense_4_loss: 0.1269 - dense_1_loss: 0.1546 - dense_3_loss: 0.1409 - dense_4_accuracy: 0.9536 - dense_1_accuracy: 0.9479 - dense_3_accuracy: 0.9500 - val_loss: 2.1747 - val_dense_4_loss: 0.8174 - val_dense_1_loss: 0.6933 - val_dense_3_loss: 0.6640 - val_dense_4_accuracy: 0.8542 - val_dense_1_accuracy: 0.8365 - val_dense_3_accuracy: 0.8558\n",
      "Epoch 60/130\n",
      "163/163 [==============================] - ETA: 0s - loss: 0.4013 - dense_4_loss: 0.1255 - dense_1_loss: 0.1441 - dense_3_loss: 0.1317 - dense_4_accuracy: 0.9586 - dense_1_accuracy: 0.9542 - dense_3_accuracy: 0.9586\n",
      "Epoch 60: val_dense_3_accuracy did not improve from 0.92628\n",
      "163/163 [==============================] - 24s 147ms/step - loss: 0.4013 - dense_4_loss: 0.1255 - dense_1_loss: 0.1441 - dense_3_loss: 0.1317 - dense_4_accuracy: 0.9586 - dense_1_accuracy: 0.9542 - dense_3_accuracy: 0.9586 - val_loss: 2.3703 - val_dense_4_loss: 0.7049 - val_dense_1_loss: 0.6658 - val_dense_3_loss: 0.9997 - val_dense_4_accuracy: 0.8782 - val_dense_1_accuracy: 0.8830 - val_dense_3_accuracy: 0.8510\n",
      "Epoch 61/130\n",
      "163/163 [==============================] - ETA: 0s - loss: 0.4178 - dense_4_loss: 0.1256 - dense_1_loss: 0.1557 - dense_3_loss: 0.1366 - dense_4_accuracy: 0.9553 - dense_1_accuracy: 0.9528 - dense_3_accuracy: 0.9555\n",
      "Epoch 61: val_dense_3_accuracy did not improve from 0.92628\n",
      "163/163 [==============================] - 24s 149ms/step - loss: 0.4178 - dense_4_loss: 0.1256 - dense_1_loss: 0.1557 - dense_3_loss: 0.1366 - dense_4_accuracy: 0.9553 - dense_1_accuracy: 0.9528 - dense_3_accuracy: 0.9555 - val_loss: 0.9947 - val_dense_4_loss: 0.3127 - val_dense_1_loss: 0.3669 - val_dense_3_loss: 0.3150 - val_dense_4_accuracy: 0.9038 - val_dense_1_accuracy: 0.8974 - val_dense_3_accuracy: 0.9087\n",
      "Epoch 62/130\n",
      "163/163 [==============================] - ETA: 0s - loss: 0.4845 - dense_4_loss: 0.1582 - dense_1_loss: 0.1386 - dense_3_loss: 0.1877 - dense_4_accuracy: 0.9586 - dense_1_accuracy: 0.9532 - dense_3_accuracy: 0.9530\n",
      "Epoch 62: val_dense_3_accuracy did not improve from 0.92628\n",
      "163/163 [==============================] - 24s 149ms/step - loss: 0.4845 - dense_4_loss: 0.1582 - dense_1_loss: 0.1386 - dense_3_loss: 0.1877 - dense_4_accuracy: 0.9586 - dense_1_accuracy: 0.9532 - dense_3_accuracy: 0.9530 - val_loss: 0.8013 - val_dense_4_loss: 0.2315 - val_dense_1_loss: 0.3178 - val_dense_3_loss: 0.2520 - val_dense_4_accuracy: 0.9135 - val_dense_1_accuracy: 0.8958 - val_dense_3_accuracy: 0.9071\n",
      "Epoch 63/130\n",
      "163/163 [==============================] - ETA: 0s - loss: 0.4091 - dense_4_loss: 0.1270 - dense_1_loss: 0.1454 - dense_3_loss: 0.1367 - dense_4_accuracy: 0.9567 - dense_1_accuracy: 0.9490 - dense_3_accuracy: 0.9538\n",
      "Epoch 63: val_dense_3_accuracy did not improve from 0.92628\n",
      "163/163 [==============================] - 25s 150ms/step - loss: 0.4091 - dense_4_loss: 0.1270 - dense_1_loss: 0.1454 - dense_3_loss: 0.1367 - dense_4_accuracy: 0.9567 - dense_1_accuracy: 0.9490 - dense_3_accuracy: 0.9538 - val_loss: 0.7508 - val_dense_4_loss: 0.2329 - val_dense_1_loss: 0.2774 - val_dense_3_loss: 0.2405 - val_dense_4_accuracy: 0.9119 - val_dense_1_accuracy: 0.9038 - val_dense_3_accuracy: 0.9151\n",
      "Epoch 64/130\n",
      "163/163 [==============================] - ETA: 0s - loss: 0.4113 - dense_4_loss: 0.1399 - dense_1_loss: 0.1344 - dense_3_loss: 0.1370 - dense_4_accuracy: 0.9553 - dense_1_accuracy: 0.9548 - dense_3_accuracy: 0.9569\n",
      "Epoch 64: val_dense_3_accuracy did not improve from 0.92628\n",
      "163/163 [==============================] - 24s 149ms/step - loss: 0.4113 - dense_4_loss: 0.1399 - dense_1_loss: 0.1344 - dense_3_loss: 0.1370 - dense_4_accuracy: 0.9553 - dense_1_accuracy: 0.9548 - dense_3_accuracy: 0.9569 - val_loss: 2.5400 - val_dense_4_loss: 0.7046 - val_dense_1_loss: 0.7979 - val_dense_3_loss: 1.0375 - val_dense_4_accuracy: 0.8782 - val_dense_1_accuracy: 0.8365 - val_dense_3_accuracy: 0.8734\n",
      "Epoch 65/130\n",
      "163/163 [==============================] - ETA: 0s - loss: 0.3763 - dense_4_loss: 0.1199 - dense_1_loss: 0.1341 - dense_3_loss: 0.1223 - dense_4_accuracy: 0.9574 - dense_1_accuracy: 0.9549 - dense_3_accuracy: 0.9546\n",
      "Epoch 65: val_dense_3_accuracy did not improve from 0.92628\n",
      "163/163 [==============================] - 24s 150ms/step - loss: 0.3763 - dense_4_loss: 0.1199 - dense_1_loss: 0.1341 - dense_3_loss: 0.1223 - dense_4_accuracy: 0.9574 - dense_1_accuracy: 0.9549 - dense_3_accuracy: 0.9546 - val_loss: 1.6826 - val_dense_4_loss: 0.6225 - val_dense_1_loss: 0.5313 - val_dense_3_loss: 0.5287 - val_dense_4_accuracy: 0.8702 - val_dense_1_accuracy: 0.9087 - val_dense_3_accuracy: 0.9071\n",
      "Epoch 66/130\n",
      "163/163 [==============================] - ETA: 0s - loss: 0.3953 - dense_4_loss: 0.1296 - dense_1_loss: 0.1319 - dense_3_loss: 0.1338 - dense_4_accuracy: 0.9574 - dense_1_accuracy: 0.9580 - dense_3_accuracy: 0.9586\n",
      "Epoch 66: val_dense_3_accuracy did not improve from 0.92628\n",
      "163/163 [==============================] - 24s 149ms/step - loss: 0.3953 - dense_4_loss: 0.1296 - dense_1_loss: 0.1319 - dense_3_loss: 0.1338 - dense_4_accuracy: 0.9574 - dense_1_accuracy: 0.9580 - dense_3_accuracy: 0.9586 - val_loss: 1.0718 - val_dense_4_loss: 0.3146 - val_dense_1_loss: 0.3961 - val_dense_3_loss: 0.3611 - val_dense_4_accuracy: 0.9071 - val_dense_1_accuracy: 0.8734 - val_dense_3_accuracy: 0.8990\n",
      "Epoch 67/130\n",
      "163/163 [==============================] - ETA: 0s - loss: 0.4105 - dense_4_loss: 0.1263 - dense_1_loss: 0.1482 - dense_3_loss: 0.1360 - dense_4_accuracy: 0.9605 - dense_1_accuracy: 0.9528 - dense_3_accuracy: 0.9565\n",
      "Epoch 67: val_dense_3_accuracy did not improve from 0.92628\n",
      "163/163 [==============================] - 24s 148ms/step - loss: 0.4105 - dense_4_loss: 0.1263 - dense_1_loss: 0.1482 - dense_3_loss: 0.1360 - dense_4_accuracy: 0.9605 - dense_1_accuracy: 0.9528 - dense_3_accuracy: 0.9565 - val_loss: 1.0149 - val_dense_4_loss: 0.3361 - val_dense_1_loss: 0.3136 - val_dense_3_loss: 0.3652 - val_dense_4_accuracy: 0.8766 - val_dense_1_accuracy: 0.9006 - val_dense_3_accuracy: 0.8686\n",
      "Epoch 68/130\n",
      "163/163 [==============================] - ETA: 0s - loss: 0.3878 - dense_4_loss: 0.1201 - dense_1_loss: 0.1429 - dense_3_loss: 0.1247 - dense_4_accuracy: 0.9592 - dense_1_accuracy: 0.9526 - dense_3_accuracy: 0.9578\n",
      "Epoch 68: val_dense_3_accuracy did not improve from 0.92628\n",
      "163/163 [==============================] - 24s 147ms/step - loss: 0.3878 - dense_4_loss: 0.1201 - dense_1_loss: 0.1429 - dense_3_loss: 0.1247 - dense_4_accuracy: 0.9592 - dense_1_accuracy: 0.9526 - dense_3_accuracy: 0.9578 - val_loss: 1.0117 - val_dense_4_loss: 0.3496 - val_dense_1_loss: 0.3188 - val_dense_3_loss: 0.3433 - val_dense_4_accuracy: 0.9022 - val_dense_1_accuracy: 0.8990 - val_dense_3_accuracy: 0.9119\n",
      "Epoch 69/130\n",
      "163/163 [==============================] - ETA: 0s - loss: 0.3834 - dense_4_loss: 0.1149 - dense_1_loss: 0.1404 - dense_3_loss: 0.1281 - dense_4_accuracy: 0.9576 - dense_1_accuracy: 0.9505 - dense_3_accuracy: 0.9571\n",
      "Epoch 69: val_dense_3_accuracy did not improve from 0.92628\n",
      "163/163 [==============================] - 24s 148ms/step - loss: 0.3834 - dense_4_loss: 0.1149 - dense_1_loss: 0.1404 - dense_3_loss: 0.1281 - dense_4_accuracy: 0.9576 - dense_1_accuracy: 0.9505 - dense_3_accuracy: 0.9571 - val_loss: 1.0120 - val_dense_4_loss: 0.3023 - val_dense_1_loss: 0.4246 - val_dense_3_loss: 0.2851 - val_dense_4_accuracy: 0.9119 - val_dense_1_accuracy: 0.8878 - val_dense_3_accuracy: 0.9119\n",
      "Epoch 70/130\n",
      "163/163 [==============================] - ETA: 0s - loss: 0.3788 - dense_4_loss: 0.1215 - dense_1_loss: 0.1290 - dense_3_loss: 0.1283 - dense_4_accuracy: 0.9576 - dense_1_accuracy: 0.9548 - dense_3_accuracy: 0.9557\n",
      "Epoch 70: val_dense_3_accuracy did not improve from 0.92628\n",
      "163/163 [==============================] - 24s 148ms/step - loss: 0.3788 - dense_4_loss: 0.1215 - dense_1_loss: 0.1290 - dense_3_loss: 0.1283 - dense_4_accuracy: 0.9576 - dense_1_accuracy: 0.9548 - dense_3_accuracy: 0.9557 - val_loss: 1.6860 - val_dense_4_loss: 0.5519 - val_dense_1_loss: 0.5766 - val_dense_3_loss: 0.5576 - val_dense_4_accuracy: 0.8510 - val_dense_1_accuracy: 0.8462 - val_dense_3_accuracy: 0.8510\n",
      "Epoch 71/130\n",
      "163/163 [==============================] - ETA: 0s - loss: 0.3622 - dense_4_loss: 0.1164 - dense_1_loss: 0.1268 - dense_3_loss: 0.1190 - dense_4_accuracy: 0.9563 - dense_1_accuracy: 0.9548 - dense_3_accuracy: 0.9563\n",
      "Epoch 71: val_dense_3_accuracy did not improve from 0.92628\n",
      "163/163 [==============================] - 25s 150ms/step - loss: 0.3622 - dense_4_loss: 0.1164 - dense_1_loss: 0.1268 - dense_3_loss: 0.1190 - dense_4_accuracy: 0.9563 - dense_1_accuracy: 0.9548 - dense_3_accuracy: 0.9563 - val_loss: 1.0075 - val_dense_4_loss: 0.3369 - val_dense_1_loss: 0.3614 - val_dense_3_loss: 0.3093 - val_dense_4_accuracy: 0.8910 - val_dense_1_accuracy: 0.8766 - val_dense_3_accuracy: 0.8926\n",
      "Epoch 72/130\n",
      "163/163 [==============================] - ETA: 0s - loss: 0.4044 - dense_4_loss: 0.1283 - dense_1_loss: 0.1295 - dense_3_loss: 0.1466 - dense_4_accuracy: 0.9584 - dense_1_accuracy: 0.9576 - dense_3_accuracy: 0.9572\n",
      "Epoch 72: val_dense_3_accuracy did not improve from 0.92628\n",
      "163/163 [==============================] - 24s 149ms/step - loss: 0.4044 - dense_4_loss: 0.1283 - dense_1_loss: 0.1295 - dense_3_loss: 0.1466 - dense_4_accuracy: 0.9584 - dense_1_accuracy: 0.9576 - dense_3_accuracy: 0.9572 - val_loss: 1.0790 - val_dense_4_loss: 0.3086 - val_dense_1_loss: 0.4531 - val_dense_3_loss: 0.3173 - val_dense_4_accuracy: 0.8990 - val_dense_1_accuracy: 0.8942 - val_dense_3_accuracy: 0.9022\n",
      "Epoch 73/130\n",
      "163/163 [==============================] - ETA: 0s - loss: 0.3756 - dense_4_loss: 0.1196 - dense_1_loss: 0.1310 - dense_3_loss: 0.1250 - dense_4_accuracy: 0.9594 - dense_1_accuracy: 0.9588 - dense_3_accuracy: 0.9582\n",
      "Epoch 73: val_dense_3_accuracy did not improve from 0.92628\n",
      "163/163 [==============================] - 24s 149ms/step - loss: 0.3756 - dense_4_loss: 0.1196 - dense_1_loss: 0.1310 - dense_3_loss: 0.1250 - dense_4_accuracy: 0.9594 - dense_1_accuracy: 0.9588 - dense_3_accuracy: 0.9582 - val_loss: 1.2582 - val_dense_4_loss: 0.4011 - val_dense_1_loss: 0.5127 - val_dense_3_loss: 0.3444 - val_dense_4_accuracy: 0.8990 - val_dense_1_accuracy: 0.8894 - val_dense_3_accuracy: 0.9038\n",
      "Epoch 74/130\n",
      "163/163 [==============================] - ETA: 0s - loss: 0.4251 - dense_4_loss: 0.1381 - dense_1_loss: 0.1422 - dense_3_loss: 0.1448 - dense_4_accuracy: 0.9542 - dense_1_accuracy: 0.9511 - dense_3_accuracy: 0.9538\n",
      "Epoch 74: val_dense_3_accuracy did not improve from 0.92628\n",
      "163/163 [==============================] - 24s 149ms/step - loss: 0.4251 - dense_4_loss: 0.1381 - dense_1_loss: 0.1422 - dense_3_loss: 0.1448 - dense_4_accuracy: 0.9542 - dense_1_accuracy: 0.9511 - dense_3_accuracy: 0.9538 - val_loss: 0.9754 - val_dense_4_loss: 0.2746 - val_dense_1_loss: 0.3679 - val_dense_3_loss: 0.3328 - val_dense_4_accuracy: 0.9038 - val_dense_1_accuracy: 0.9038 - val_dense_3_accuracy: 0.9038\n",
      "Epoch 75/130\n",
      "163/163 [==============================] - ETA: 0s - loss: 0.3727 - dense_4_loss: 0.1139 - dense_1_loss: 0.1317 - dense_3_loss: 0.1271 - dense_4_accuracy: 0.9565 - dense_1_accuracy: 0.9576 - dense_3_accuracy: 0.9576\n",
      "Epoch 75: val_dense_3_accuracy did not improve from 0.92628\n",
      "163/163 [==============================] - 24s 149ms/step - loss: 0.3727 - dense_4_loss: 0.1139 - dense_1_loss: 0.1317 - dense_3_loss: 0.1271 - dense_4_accuracy: 0.9565 - dense_1_accuracy: 0.9576 - dense_3_accuracy: 0.9576 - val_loss: 1.6696 - val_dense_4_loss: 0.4974 - val_dense_1_loss: 0.6460 - val_dense_3_loss: 0.5262 - val_dense_4_accuracy: 0.8974 - val_dense_1_accuracy: 0.8494 - val_dense_3_accuracy: 0.8942\n",
      "Epoch 76/130\n",
      "163/163 [==============================] - ETA: 0s - loss: 0.4087 - dense_4_loss: 0.1248 - dense_1_loss: 0.1394 - dense_3_loss: 0.1445 - dense_4_accuracy: 0.9557 - dense_1_accuracy: 0.9548 - dense_3_accuracy: 0.9544\n",
      "Epoch 76: val_dense_3_accuracy did not improve from 0.92628\n",
      "163/163 [==============================] - 24s 149ms/step - loss: 0.4087 - dense_4_loss: 0.1248 - dense_1_loss: 0.1394 - dense_3_loss: 0.1445 - dense_4_accuracy: 0.9557 - dense_1_accuracy: 0.9548 - dense_3_accuracy: 0.9544 - val_loss: 0.7212 - val_dense_4_loss: 0.2316 - val_dense_1_loss: 0.2440 - val_dense_3_loss: 0.2456 - val_dense_4_accuracy: 0.8942 - val_dense_1_accuracy: 0.9119 - val_dense_3_accuracy: 0.8942\n",
      "Epoch 77/130\n",
      "163/163 [==============================] - ETA: 0s - loss: 0.3909 - dense_4_loss: 0.1220 - dense_1_loss: 0.1349 - dense_3_loss: 0.1340 - dense_4_accuracy: 0.9569 - dense_1_accuracy: 0.9521 - dense_3_accuracy: 0.9540\n",
      "Epoch 77: val_dense_3_accuracy did not improve from 0.92628\n",
      "163/163 [==============================] - 24s 148ms/step - loss: 0.3909 - dense_4_loss: 0.1220 - dense_1_loss: 0.1349 - dense_3_loss: 0.1340 - dense_4_accuracy: 0.9569 - dense_1_accuracy: 0.9521 - dense_3_accuracy: 0.9540 - val_loss: 1.9397 - val_dense_4_loss: 0.8145 - val_dense_1_loss: 0.5309 - val_dense_3_loss: 0.5942 - val_dense_4_accuracy: 0.7500 - val_dense_1_accuracy: 0.8301 - val_dense_3_accuracy: 0.8686\n",
      "Epoch 78/130\n",
      "163/163 [==============================] - ETA: 0s - loss: 0.4495 - dense_4_loss: 0.1360 - dense_1_loss: 0.1474 - dense_3_loss: 0.1660 - dense_4_accuracy: 0.9503 - dense_1_accuracy: 0.9492 - dense_3_accuracy: 0.9521\n",
      "Epoch 78: val_dense_3_accuracy did not improve from 0.92628\n",
      "163/163 [==============================] - 24s 148ms/step - loss: 0.4495 - dense_4_loss: 0.1360 - dense_1_loss: 0.1474 - dense_3_loss: 0.1660 - dense_4_accuracy: 0.9503 - dense_1_accuracy: 0.9492 - dense_3_accuracy: 0.9521 - val_loss: 1.6111 - val_dense_4_loss: 0.5919 - val_dense_1_loss: 0.4137 - val_dense_3_loss: 0.6055 - val_dense_4_accuracy: 0.8462 - val_dense_1_accuracy: 0.8814 - val_dense_3_accuracy: 0.8462\n",
      "Epoch 79/130\n",
      "163/163 [==============================] - ETA: 0s - loss: 0.4583 - dense_4_loss: 0.1452 - dense_1_loss: 0.1515 - dense_3_loss: 0.1616 - dense_4_accuracy: 0.9528 - dense_1_accuracy: 0.9525 - dense_3_accuracy: 0.9523\n",
      "Epoch 79: val_dense_3_accuracy did not improve from 0.92628\n",
      "163/163 [==============================] - 24s 148ms/step - loss: 0.4583 - dense_4_loss: 0.1452 - dense_1_loss: 0.1515 - dense_3_loss: 0.1616 - dense_4_accuracy: 0.9528 - dense_1_accuracy: 0.9525 - dense_3_accuracy: 0.9523 - val_loss: 2.2071 - val_dense_4_loss: 0.7384 - val_dense_1_loss: 0.5799 - val_dense_3_loss: 0.8889 - val_dense_4_accuracy: 0.8077 - val_dense_1_accuracy: 0.8045 - val_dense_3_accuracy: 0.7692\n",
      "Epoch 80/130\n",
      "163/163 [==============================] - ETA: 0s - loss: 0.4360 - dense_4_loss: 0.1452 - dense_1_loss: 0.1373 - dense_3_loss: 0.1535 - dense_4_accuracy: 0.9569 - dense_1_accuracy: 0.9576 - dense_3_accuracy: 0.9582\n",
      "Epoch 80: val_dense_3_accuracy did not improve from 0.92628\n",
      "163/163 [==============================] - 24s 149ms/step - loss: 0.4360 - dense_4_loss: 0.1452 - dense_1_loss: 0.1373 - dense_3_loss: 0.1535 - dense_4_accuracy: 0.9569 - dense_1_accuracy: 0.9576 - dense_3_accuracy: 0.9582 - val_loss: 1.3874 - val_dense_4_loss: 0.4229 - val_dense_1_loss: 0.3044 - val_dense_3_loss: 0.6601 - val_dense_4_accuracy: 0.9135 - val_dense_1_accuracy: 0.9167 - val_dense_3_accuracy: 0.9119\n",
      "Epoch 81/130\n",
      "163/163 [==============================] - ETA: 0s - loss: 0.4337 - dense_4_loss: 0.1396 - dense_1_loss: 0.1546 - dense_3_loss: 0.1395 - dense_4_accuracy: 0.9546 - dense_1_accuracy: 0.9559 - dense_3_accuracy: 0.9542\n",
      "Epoch 81: val_dense_3_accuracy did not improve from 0.92628\n",
      "163/163 [==============================] - 24s 149ms/step - loss: 0.4337 - dense_4_loss: 0.1396 - dense_1_loss: 0.1546 - dense_3_loss: 0.1395 - dense_4_accuracy: 0.9546 - dense_1_accuracy: 0.9559 - dense_3_accuracy: 0.9542 - val_loss: 5.9946 - val_dense_4_loss: 2.3100 - val_dense_1_loss: 0.4155 - val_dense_3_loss: 3.2691 - val_dense_4_accuracy: 0.8462 - val_dense_1_accuracy: 0.8942 - val_dense_3_accuracy: 0.8670\n",
      "Epoch 82/130\n",
      "163/163 [==============================] - ETA: 0s - loss: 0.4852 - dense_4_loss: 0.1706 - dense_1_loss: 0.1522 - dense_3_loss: 0.1623 - dense_4_accuracy: 0.9584 - dense_1_accuracy: 0.9549 - dense_3_accuracy: 0.9594\n",
      "Epoch 82: val_dense_3_accuracy did not improve from 0.92628\n",
      "163/163 [==============================] - 24s 146ms/step - loss: 0.4852 - dense_4_loss: 0.1706 - dense_1_loss: 0.1522 - dense_3_loss: 0.1623 - dense_4_accuracy: 0.9584 - dense_1_accuracy: 0.9549 - dense_3_accuracy: 0.9594 - val_loss: 1.6007 - val_dense_4_loss: 0.5420 - val_dense_1_loss: 0.3863 - val_dense_3_loss: 0.6724 - val_dense_4_accuracy: 0.8189 - val_dense_1_accuracy: 0.8301 - val_dense_3_accuracy: 0.8205\n",
      "Epoch 83/130\n",
      "163/163 [==============================] - ETA: 0s - loss: 0.4475 - dense_4_loss: 0.1456 - dense_1_loss: 0.1432 - dense_3_loss: 0.1587 - dense_4_accuracy: 0.9561 - dense_1_accuracy: 0.9542 - dense_3_accuracy: 0.9540\n",
      "Epoch 83: val_dense_3_accuracy did not improve from 0.92628\n",
      "163/163 [==============================] - 24s 148ms/step - loss: 0.4475 - dense_4_loss: 0.1456 - dense_1_loss: 0.1432 - dense_3_loss: 0.1587 - dense_4_accuracy: 0.9561 - dense_1_accuracy: 0.9542 - dense_3_accuracy: 0.9540 - val_loss: 0.7779 - val_dense_4_loss: 0.2360 - val_dense_1_loss: 0.2741 - val_dense_3_loss: 0.2678 - val_dense_4_accuracy: 0.9135 - val_dense_1_accuracy: 0.9054 - val_dense_3_accuracy: 0.9054\n",
      "Epoch 84/130\n",
      "163/163 [==============================] - ETA: 0s - loss: 0.4349 - dense_4_loss: 0.1335 - dense_1_loss: 0.1429 - dense_3_loss: 0.1585 - dense_4_accuracy: 0.9505 - dense_1_accuracy: 0.9507 - dense_3_accuracy: 0.9509\n",
      "Epoch 84: val_dense_3_accuracy did not improve from 0.92628\n",
      "163/163 [==============================] - 24s 149ms/step - loss: 0.4349 - dense_4_loss: 0.1335 - dense_1_loss: 0.1429 - dense_3_loss: 0.1585 - dense_4_accuracy: 0.9505 - dense_1_accuracy: 0.9507 - dense_3_accuracy: 0.9509 - val_loss: 1.0643 - val_dense_4_loss: 0.3694 - val_dense_1_loss: 0.3686 - val_dense_3_loss: 0.3263 - val_dense_4_accuracy: 0.8830 - val_dense_1_accuracy: 0.8894 - val_dense_3_accuracy: 0.8830\n",
      "Epoch 85/130\n",
      "163/163 [==============================] - ETA: 0s - loss: 0.4800 - dense_4_loss: 0.1522 - dense_1_loss: 0.1607 - dense_3_loss: 0.1670 - dense_4_accuracy: 0.9513 - dense_1_accuracy: 0.9538 - dense_3_accuracy: 0.9540\n",
      "Epoch 85: val_dense_3_accuracy did not improve from 0.92628\n",
      "163/163 [==============================] - 24s 149ms/step - loss: 0.4800 - dense_4_loss: 0.1522 - dense_1_loss: 0.1607 - dense_3_loss: 0.1670 - dense_4_accuracy: 0.9513 - dense_1_accuracy: 0.9538 - dense_3_accuracy: 0.9540 - val_loss: 0.9074 - val_dense_4_loss: 0.3310 - val_dense_1_loss: 0.2750 - val_dense_3_loss: 0.3014 - val_dense_4_accuracy: 0.8974 - val_dense_1_accuracy: 0.8894 - val_dense_3_accuracy: 0.8894\n",
      "Epoch 86/130\n",
      "163/163 [==============================] - ETA: 0s - loss: 0.4615 - dense_4_loss: 0.1578 - dense_1_loss: 0.1473 - dense_3_loss: 0.1564 - dense_4_accuracy: 0.9467 - dense_1_accuracy: 0.9530 - dense_3_accuracy: 0.9484\n",
      "Epoch 86: val_dense_3_accuracy did not improve from 0.92628\n",
      "163/163 [==============================] - 24s 148ms/step - loss: 0.4615 - dense_4_loss: 0.1578 - dense_1_loss: 0.1473 - dense_3_loss: 0.1564 - dense_4_accuracy: 0.9467 - dense_1_accuracy: 0.9530 - dense_3_accuracy: 0.9484 - val_loss: 1.3077 - val_dense_4_loss: 0.3874 - val_dense_1_loss: 0.4962 - val_dense_3_loss: 0.4241 - val_dense_4_accuracy: 0.8798 - val_dense_1_accuracy: 0.8766 - val_dense_3_accuracy: 0.9006\n",
      "Epoch 87/130\n",
      "163/163 [==============================] - ETA: 0s - loss: 0.7061 - dense_4_loss: 0.2084 - dense_1_loss: 0.1381 - dense_3_loss: 0.3596 - dense_4_accuracy: 0.9548 - dense_1_accuracy: 0.9578 - dense_3_accuracy: 0.9565\n",
      "Epoch 87: val_dense_3_accuracy did not improve from 0.92628\n",
      "163/163 [==============================] - 24s 149ms/step - loss: 0.7061 - dense_4_loss: 0.2084 - dense_1_loss: 0.1381 - dense_3_loss: 0.3596 - dense_4_accuracy: 0.9548 - dense_1_accuracy: 0.9578 - dense_3_accuracy: 0.9565 - val_loss: 1.5269 - val_dense_4_loss: 0.4287 - val_dense_1_loss: 0.5213 - val_dense_3_loss: 0.5769 - val_dense_4_accuracy: 0.8462 - val_dense_1_accuracy: 0.8878 - val_dense_3_accuracy: 0.9006\n",
      "Epoch 88/130\n",
      "163/163 [==============================] - ETA: 0s - loss: 0.5649 - dense_4_loss: 0.1560 - dense_1_loss: 0.1751 - dense_3_loss: 0.2338 - dense_4_accuracy: 0.9517 - dense_1_accuracy: 0.9515 - dense_3_accuracy: 0.9519\n",
      "Epoch 88: val_dense_3_accuracy did not improve from 0.92628\n",
      "163/163 [==============================] - 24s 149ms/step - loss: 0.5649 - dense_4_loss: 0.1560 - dense_1_loss: 0.1751 - dense_3_loss: 0.2338 - dense_4_accuracy: 0.9517 - dense_1_accuracy: 0.9515 - dense_3_accuracy: 0.9519 - val_loss: 0.8913 - val_dense_4_loss: 0.3025 - val_dense_1_loss: 0.3389 - val_dense_3_loss: 0.2498 - val_dense_4_accuracy: 0.9231 - val_dense_1_accuracy: 0.9199 - val_dense_3_accuracy: 0.9231\n",
      "Epoch 89/130\n",
      "163/163 [==============================] - ETA: 0s - loss: 0.5158 - dense_4_loss: 0.1462 - dense_1_loss: 0.1638 - dense_3_loss: 0.2057 - dense_4_accuracy: 0.9517 - dense_1_accuracy: 0.9490 - dense_3_accuracy: 0.9521\n",
      "Epoch 89: val_dense_3_accuracy did not improve from 0.92628\n",
      "163/163 [==============================] - 24s 149ms/step - loss: 0.5158 - dense_4_loss: 0.1462 - dense_1_loss: 0.1638 - dense_3_loss: 0.2057 - dense_4_accuracy: 0.9517 - dense_1_accuracy: 0.9490 - dense_3_accuracy: 0.9521 - val_loss: 2.9137 - val_dense_4_loss: 0.5293 - val_dense_1_loss: 1.4761 - val_dense_3_loss: 0.9084 - val_dense_4_accuracy: 0.8494 - val_dense_1_accuracy: 0.8253 - val_dense_3_accuracy: 0.8237\n",
      "Epoch 90/130\n",
      "163/163 [==============================] - ETA: 0s - loss: 0.4878 - dense_4_loss: 0.1443 - dense_1_loss: 0.1723 - dense_3_loss: 0.1712 - dense_4_accuracy: 0.9532 - dense_1_accuracy: 0.9503 - dense_3_accuracy: 0.9553\n",
      "Epoch 90: val_dense_3_accuracy did not improve from 0.92628\n",
      "163/163 [==============================] - 24s 149ms/step - loss: 0.4878 - dense_4_loss: 0.1443 - dense_1_loss: 0.1723 - dense_3_loss: 0.1712 - dense_4_accuracy: 0.9532 - dense_1_accuracy: 0.9503 - dense_3_accuracy: 0.9553 - val_loss: 1.3119 - val_dense_4_loss: 0.3044 - val_dense_1_loss: 0.5466 - val_dense_3_loss: 0.4609 - val_dense_4_accuracy: 0.9071 - val_dense_1_accuracy: 0.8670 - val_dense_3_accuracy: 0.8878\n",
      "Epoch 91/130\n",
      "163/163 [==============================] - ETA: 0s - loss: 0.4950 - dense_4_loss: 0.1338 - dense_1_loss: 0.1664 - dense_3_loss: 0.1948 - dense_4_accuracy: 0.9576 - dense_1_accuracy: 0.9557 - dense_3_accuracy: 0.9578\n",
      "Epoch 91: val_dense_3_accuracy did not improve from 0.92628\n",
      "163/163 [==============================] - 24s 148ms/step - loss: 0.4950 - dense_4_loss: 0.1338 - dense_1_loss: 0.1664 - dense_3_loss: 0.1948 - dense_4_accuracy: 0.9576 - dense_1_accuracy: 0.9557 - dense_3_accuracy: 0.9578 - val_loss: 6.9708 - val_dense_4_loss: 1.2680 - val_dense_1_loss: 1.0308 - val_dense_3_loss: 4.6720 - val_dense_4_accuracy: 0.6683 - val_dense_1_accuracy: 0.7644 - val_dense_3_accuracy: 0.6683\n",
      "Epoch 92/130\n",
      "163/163 [==============================] - ETA: 0s - loss: 0.4782 - dense_4_loss: 0.1467 - dense_1_loss: 0.1495 - dense_3_loss: 0.1820 - dense_4_accuracy: 0.9521 - dense_1_accuracy: 0.9519 - dense_3_accuracy: 0.9515\n",
      "Epoch 92: val_dense_3_accuracy did not improve from 0.92628\n",
      "163/163 [==============================] - 24s 148ms/step - loss: 0.4782 - dense_4_loss: 0.1467 - dense_1_loss: 0.1495 - dense_3_loss: 0.1820 - dense_4_accuracy: 0.9521 - dense_1_accuracy: 0.9519 - dense_3_accuracy: 0.9515 - val_loss: 1.2732 - val_dense_4_loss: 0.4178 - val_dense_1_loss: 0.3684 - val_dense_3_loss: 0.4870 - val_dense_4_accuracy: 0.8862 - val_dense_1_accuracy: 0.8846 - val_dense_3_accuracy: 0.8702\n",
      "Epoch 93/130\n",
      "163/163 [==============================] - ETA: 0s - loss: 0.6817 - dense_4_loss: 0.1886 - dense_1_loss: 0.1665 - dense_3_loss: 0.3266 - dense_4_accuracy: 0.9534 - dense_1_accuracy: 0.9542 - dense_3_accuracy: 0.9526\n",
      "Epoch 93: val_dense_3_accuracy did not improve from 0.92628\n",
      "163/163 [==============================] - 24s 149ms/step - loss: 0.6817 - dense_4_loss: 0.1886 - dense_1_loss: 0.1665 - dense_3_loss: 0.3266 - dense_4_accuracy: 0.9534 - dense_1_accuracy: 0.9542 - dense_3_accuracy: 0.9526 - val_loss: 0.9047 - val_dense_4_loss: 0.2471 - val_dense_1_loss: 0.3374 - val_dense_3_loss: 0.3202 - val_dense_4_accuracy: 0.9119 - val_dense_1_accuracy: 0.8670 - val_dense_3_accuracy: 0.9135\n",
      "Epoch 94/130\n",
      "163/163 [==============================] - ETA: 0s - loss: 0.4979 - dense_4_loss: 0.1422 - dense_1_loss: 0.1658 - dense_3_loss: 0.1899 - dense_4_accuracy: 0.9549 - dense_1_accuracy: 0.9515 - dense_3_accuracy: 0.9542\n",
      "Epoch 94: val_dense_3_accuracy did not improve from 0.92628\n",
      "163/163 [==============================] - 24s 148ms/step - loss: 0.4979 - dense_4_loss: 0.1422 - dense_1_loss: 0.1658 - dense_3_loss: 0.1899 - dense_4_accuracy: 0.9549 - dense_1_accuracy: 0.9515 - dense_3_accuracy: 0.9542 - val_loss: 1.1913 - val_dense_4_loss: 0.4303 - val_dense_1_loss: 0.2654 - val_dense_3_loss: 0.4956 - val_dense_4_accuracy: 0.8894 - val_dense_1_accuracy: 0.9022 - val_dense_3_accuracy: 0.8830\n",
      "Epoch 95/130\n",
      "163/163 [==============================] - ETA: 0s - loss: 0.6633 - dense_4_loss: 0.1603 - dense_1_loss: 0.1778 - dense_3_loss: 0.3252 - dense_4_accuracy: 0.9523 - dense_1_accuracy: 0.9515 - dense_3_accuracy: 0.9456\n",
      "Epoch 95: val_dense_3_accuracy did not improve from 0.92628\n",
      "163/163 [==============================] - 24s 148ms/step - loss: 0.6633 - dense_4_loss: 0.1603 - dense_1_loss: 0.1778 - dense_3_loss: 0.3252 - dense_4_accuracy: 0.9523 - dense_1_accuracy: 0.9515 - dense_3_accuracy: 0.9456 - val_loss: 1.3432 - val_dense_4_loss: 0.4481 - val_dense_1_loss: 0.4458 - val_dense_3_loss: 0.4493 - val_dense_4_accuracy: 0.8814 - val_dense_1_accuracy: 0.9135 - val_dense_3_accuracy: 0.9119\n",
      "Epoch 96/130\n",
      "163/163 [==============================] - ETA: 0s - loss: 0.4622 - dense_4_loss: 0.1341 - dense_1_loss: 0.1517 - dense_3_loss: 0.1764 - dense_4_accuracy: 0.9586 - dense_1_accuracy: 0.9500 - dense_3_accuracy: 0.9588\n",
      "Epoch 96: val_dense_3_accuracy did not improve from 0.92628\n",
      "163/163 [==============================] - 24s 148ms/step - loss: 0.4622 - dense_4_loss: 0.1341 - dense_1_loss: 0.1517 - dense_3_loss: 0.1764 - dense_4_accuracy: 0.9586 - dense_1_accuracy: 0.9500 - dense_3_accuracy: 0.9588 - val_loss: 1.5309 - val_dense_4_loss: 0.5998 - val_dense_1_loss: 0.4185 - val_dense_3_loss: 0.5127 - val_dense_4_accuracy: 0.8446 - val_dense_1_accuracy: 0.8878 - val_dense_3_accuracy: 0.8397\n",
      "Epoch 97/130\n",
      "163/163 [==============================] - ETA: 0s - loss: 0.5310 - dense_4_loss: 0.1467 - dense_1_loss: 0.1689 - dense_3_loss: 0.2155 - dense_4_accuracy: 0.9542 - dense_1_accuracy: 0.9496 - dense_3_accuracy: 0.9475\n",
      "Epoch 97: val_dense_3_accuracy did not improve from 0.92628\n",
      "163/163 [==============================] - 24s 148ms/step - loss: 0.5310 - dense_4_loss: 0.1467 - dense_1_loss: 0.1689 - dense_3_loss: 0.2155 - dense_4_accuracy: 0.9542 - dense_1_accuracy: 0.9496 - dense_3_accuracy: 0.9475 - val_loss: 1.7928 - val_dense_4_loss: 0.4526 - val_dense_1_loss: 0.5571 - val_dense_3_loss: 0.7831 - val_dense_4_accuracy: 0.8990 - val_dense_1_accuracy: 0.8734 - val_dense_3_accuracy: 0.8077\n",
      "Epoch 98/130\n",
      "163/163 [==============================] - ETA: 0s - loss: 0.4836 - dense_4_loss: 0.1419 - dense_1_loss: 0.1598 - dense_3_loss: 0.1819 - dense_4_accuracy: 0.9546 - dense_1_accuracy: 0.9519 - dense_3_accuracy: 0.9519\n",
      "Epoch 98: val_dense_3_accuracy did not improve from 0.92628\n",
      "163/163 [==============================] - 24s 148ms/step - loss: 0.4836 - dense_4_loss: 0.1419 - dense_1_loss: 0.1598 - dense_3_loss: 0.1819 - dense_4_accuracy: 0.9546 - dense_1_accuracy: 0.9519 - dense_3_accuracy: 0.9519 - val_loss: 1.4431 - val_dense_4_loss: 0.3311 - val_dense_1_loss: 0.2857 - val_dense_3_loss: 0.8263 - val_dense_4_accuracy: 0.8974 - val_dense_1_accuracy: 0.9135 - val_dense_3_accuracy: 0.9071\n",
      "Epoch 99/130\n",
      "163/163 [==============================] - ETA: 0s - loss: 0.5448 - dense_4_loss: 0.1616 - dense_1_loss: 0.1353 - dense_3_loss: 0.2479 - dense_4_accuracy: 0.9567 - dense_1_accuracy: 0.9551 - dense_3_accuracy: 0.9519\n",
      "Epoch 99: val_dense_3_accuracy did not improve from 0.92628\n",
      "163/163 [==============================] - 24s 148ms/step - loss: 0.5448 - dense_4_loss: 0.1616 - dense_1_loss: 0.1353 - dense_3_loss: 0.2479 - dense_4_accuracy: 0.9567 - dense_1_accuracy: 0.9551 - dense_3_accuracy: 0.9519 - val_loss: 3.1202 - val_dense_4_loss: 1.1579 - val_dense_1_loss: 0.5631 - val_dense_3_loss: 1.3992 - val_dense_4_accuracy: 0.8910 - val_dense_1_accuracy: 0.9263 - val_dense_3_accuracy: 0.9054\n",
      "Epoch 100/130\n",
      "163/163 [==============================] - ETA: 0s - loss: 0.4361 - dense_4_loss: 0.1349 - dense_1_loss: 0.1497 - dense_3_loss: 0.1515 - dense_4_accuracy: 0.9530 - dense_1_accuracy: 0.9548 - dense_3_accuracy: 0.9538\n",
      "Epoch 100: val_dense_3_accuracy did not improve from 0.92628\n",
      "163/163 [==============================] - 24s 148ms/step - loss: 0.4361 - dense_4_loss: 0.1349 - dense_1_loss: 0.1497 - dense_3_loss: 0.1515 - dense_4_accuracy: 0.9530 - dense_1_accuracy: 0.9548 - dense_3_accuracy: 0.9538 - val_loss: 12.3983 - val_dense_4_loss: 2.9419 - val_dense_1_loss: 1.7182 - val_dense_3_loss: 7.7381 - val_dense_4_accuracy: 0.7436 - val_dense_1_accuracy: 0.8349 - val_dense_3_accuracy: 0.8141\n",
      "Epoch 101/130\n",
      "163/163 [==============================] - ETA: 0s - loss: 0.8652 - dense_4_loss: 0.2135 - dense_1_loss: 0.1930 - dense_3_loss: 0.4587 - dense_4_accuracy: 0.9571 - dense_1_accuracy: 0.9569 - dense_3_accuracy: 0.9595\n",
      "Epoch 101: val_dense_3_accuracy did not improve from 0.92628\n",
      "163/163 [==============================] - 24s 148ms/step - loss: 0.8652 - dense_4_loss: 0.2135 - dense_1_loss: 0.1930 - dense_3_loss: 0.4587 - dense_4_accuracy: 0.9571 - dense_1_accuracy: 0.9569 - dense_3_accuracy: 0.9595 - val_loss: 3.7973 - val_dense_4_loss: 1.7346 - val_dense_1_loss: 0.3807 - val_dense_3_loss: 1.6819 - val_dense_4_accuracy: 0.8702 - val_dense_1_accuracy: 0.8750 - val_dense_3_accuracy: 0.8798\n",
      "Epoch 102/130\n",
      "163/163 [==============================] - ETA: 0s - loss: 0.5737 - dense_4_loss: 0.1667 - dense_1_loss: 0.1740 - dense_3_loss: 0.2330 - dense_4_accuracy: 0.9502 - dense_1_accuracy: 0.9494 - dense_3_accuracy: 0.9513\n",
      "Epoch 102: val_dense_3_accuracy did not improve from 0.92628\n",
      "163/163 [==============================] - 24s 148ms/step - loss: 0.5737 - dense_4_loss: 0.1667 - dense_1_loss: 0.1740 - dense_3_loss: 0.2330 - dense_4_accuracy: 0.9502 - dense_1_accuracy: 0.9494 - dense_3_accuracy: 0.9513 - val_loss: 0.9834 - val_dense_4_loss: 0.3455 - val_dense_1_loss: 0.3262 - val_dense_3_loss: 0.3117 - val_dense_4_accuracy: 0.9167 - val_dense_1_accuracy: 0.9135 - val_dense_3_accuracy: 0.9135\n",
      "Epoch 103/130\n",
      "163/163 [==============================] - ETA: 0s - loss: 0.5082 - dense_4_loss: 0.1695 - dense_1_loss: 0.1581 - dense_3_loss: 0.1806 - dense_4_accuracy: 0.9477 - dense_1_accuracy: 0.9509 - dense_3_accuracy: 0.9494\n",
      "Epoch 103: val_dense_3_accuracy did not improve from 0.92628\n",
      "163/163 [==============================] - 24s 147ms/step - loss: 0.5082 - dense_4_loss: 0.1695 - dense_1_loss: 0.1581 - dense_3_loss: 0.1806 - dense_4_accuracy: 0.9477 - dense_1_accuracy: 0.9509 - dense_3_accuracy: 0.9494 - val_loss: 3.1472 - val_dense_4_loss: 0.6512 - val_dense_1_loss: 0.5600 - val_dense_3_loss: 1.9360 - val_dense_4_accuracy: 0.8814 - val_dense_1_accuracy: 0.8365 - val_dense_3_accuracy: 0.8189\n",
      "Epoch 104/130\n",
      "163/163 [==============================] - ETA: 0s - loss: 0.5449 - dense_4_loss: 0.1681 - dense_1_loss: 0.1700 - dense_3_loss: 0.2069 - dense_4_accuracy: 0.9477 - dense_1_accuracy: 0.9479 - dense_3_accuracy: 0.9490\n",
      "Epoch 104: val_dense_3_accuracy did not improve from 0.92628\n",
      "163/163 [==============================] - 24s 149ms/step - loss: 0.5449 - dense_4_loss: 0.1681 - dense_1_loss: 0.1700 - dense_3_loss: 0.2069 - dense_4_accuracy: 0.9477 - dense_1_accuracy: 0.9479 - dense_3_accuracy: 0.9490 - val_loss: 0.8746 - val_dense_4_loss: 0.2775 - val_dense_1_loss: 0.3280 - val_dense_3_loss: 0.2690 - val_dense_4_accuracy: 0.8830 - val_dense_1_accuracy: 0.8734 - val_dense_3_accuracy: 0.9103\n",
      "Epoch 105/130\n",
      "163/163 [==============================] - ETA: 0s - loss: 0.6033 - dense_4_loss: 0.1855 - dense_1_loss: 0.1770 - dense_3_loss: 0.2407 - dense_4_accuracy: 0.9459 - dense_1_accuracy: 0.9492 - dense_3_accuracy: 0.9477\n",
      "Epoch 105: val_dense_3_accuracy did not improve from 0.92628\n",
      "163/163 [==============================] - 24s 149ms/step - loss: 0.6033 - dense_4_loss: 0.1855 - dense_1_loss: 0.1770 - dense_3_loss: 0.2407 - dense_4_accuracy: 0.9459 - dense_1_accuracy: 0.9492 - dense_3_accuracy: 0.9477 - val_loss: 7.6974 - val_dense_4_loss: 1.8603 - val_dense_1_loss: 1.2532 - val_dense_3_loss: 4.5840 - val_dense_4_accuracy: 0.8494 - val_dense_1_accuracy: 0.8686 - val_dense_3_accuracy: 0.8494\n",
      "Epoch 106/130\n",
      "163/163 [==============================] - ETA: 0s - loss: 0.5543 - dense_4_loss: 0.1670 - dense_1_loss: 0.1634 - dense_3_loss: 0.2239 - dense_4_accuracy: 0.9551 - dense_1_accuracy: 0.9540 - dense_3_accuracy: 0.9584\n",
      "Epoch 106: val_dense_3_accuracy did not improve from 0.92628\n",
      "163/163 [==============================] - 25s 150ms/step - loss: 0.5543 - dense_4_loss: 0.1670 - dense_1_loss: 0.1634 - dense_3_loss: 0.2239 - dense_4_accuracy: 0.9551 - dense_1_accuracy: 0.9540 - dense_3_accuracy: 0.9584 - val_loss: 3.4505 - val_dense_4_loss: 0.6130 - val_dense_1_loss: 0.7985 - val_dense_3_loss: 2.0389 - val_dense_4_accuracy: 0.8830 - val_dense_1_accuracy: 0.8734 - val_dense_3_accuracy: 0.8862\n",
      "Epoch 107/130\n",
      "163/163 [==============================] - ETA: 0s - loss: 0.9990 - dense_4_loss: 0.2252 - dense_1_loss: 0.1698 - dense_3_loss: 0.6040 - dense_4_accuracy: 0.9544 - dense_1_accuracy: 0.9576 - dense_3_accuracy: 0.9546\n",
      "Epoch 107: val_dense_3_accuracy did not improve from 0.92628\n",
      "163/163 [==============================] - 25s 150ms/step - loss: 0.9990 - dense_4_loss: 0.2252 - dense_1_loss: 0.1698 - dense_3_loss: 0.6040 - dense_4_accuracy: 0.9544 - dense_1_accuracy: 0.9576 - dense_3_accuracy: 0.9546 - val_loss: 5.6930 - val_dense_4_loss: 1.4512 - val_dense_1_loss: 0.8552 - val_dense_3_loss: 3.3866 - val_dense_4_accuracy: 0.8141 - val_dense_1_accuracy: 0.8317 - val_dense_3_accuracy: 0.7564\n",
      "Epoch 108/130\n",
      "163/163 [==============================] - ETA: 0s - loss: 0.6283 - dense_4_loss: 0.2129 - dense_1_loss: 0.1983 - dense_3_loss: 0.2171 - dense_4_accuracy: 0.9480 - dense_1_accuracy: 0.9511 - dense_3_accuracy: 0.9480\n",
      "Epoch 108: val_dense_3_accuracy did not improve from 0.92628\n",
      "163/163 [==============================] - 25s 150ms/step - loss: 0.6283 - dense_4_loss: 0.2129 - dense_1_loss: 0.1983 - dense_3_loss: 0.2171 - dense_4_accuracy: 0.9480 - dense_1_accuracy: 0.9511 - dense_3_accuracy: 0.9480 - val_loss: 3.5052 - val_dense_4_loss: 0.9105 - val_dense_1_loss: 0.6784 - val_dense_3_loss: 1.9164 - val_dense_4_accuracy: 0.8478 - val_dense_1_accuracy: 0.8141 - val_dense_3_accuracy: 0.8333\n",
      "Epoch 109/130\n",
      "163/163 [==============================] - ETA: 0s - loss: 0.5003 - dense_4_loss: 0.1551 - dense_1_loss: 0.1660 - dense_3_loss: 0.1792 - dense_4_accuracy: 0.9519 - dense_1_accuracy: 0.9523 - dense_3_accuracy: 0.9525\n",
      "Epoch 109: val_dense_3_accuracy did not improve from 0.92628\n",
      "163/163 [==============================] - 24s 149ms/step - loss: 0.5003 - dense_4_loss: 0.1551 - dense_1_loss: 0.1660 - dense_3_loss: 0.1792 - dense_4_accuracy: 0.9519 - dense_1_accuracy: 0.9523 - dense_3_accuracy: 0.9525 - val_loss: 1.5898 - val_dense_4_loss: 0.3809 - val_dense_1_loss: 0.3730 - val_dense_3_loss: 0.8359 - val_dense_4_accuracy: 0.9151 - val_dense_1_accuracy: 0.9295 - val_dense_3_accuracy: 0.9183\n",
      "Epoch 110/130\n",
      "163/163 [==============================] - ETA: 0s - loss: 0.6195 - dense_4_loss: 0.2405 - dense_1_loss: 0.1504 - dense_3_loss: 0.2286 - dense_4_accuracy: 0.9515 - dense_1_accuracy: 0.9555 - dense_3_accuracy: 0.9576\n",
      "Epoch 110: val_dense_3_accuracy did not improve from 0.92628\n",
      "163/163 [==============================] - 24s 148ms/step - loss: 0.6195 - dense_4_loss: 0.2405 - dense_1_loss: 0.1504 - dense_3_loss: 0.2286 - dense_4_accuracy: 0.9515 - dense_1_accuracy: 0.9555 - dense_3_accuracy: 0.9576 - val_loss: 1.2158 - val_dense_4_loss: 0.3708 - val_dense_1_loss: 0.4594 - val_dense_3_loss: 0.3856 - val_dense_4_accuracy: 0.8718 - val_dense_1_accuracy: 0.9054 - val_dense_3_accuracy: 0.8862\n",
      "Epoch 111/130\n",
      "163/163 [==============================] - ETA: 0s - loss: 0.5891 - dense_4_loss: 0.1668 - dense_1_loss: 0.1771 - dense_3_loss: 0.2452 - dense_4_accuracy: 0.9507 - dense_1_accuracy: 0.9549 - dense_3_accuracy: 0.9525\n",
      "Epoch 111: val_dense_3_accuracy did not improve from 0.92628\n",
      "163/163 [==============================] - 25s 151ms/step - loss: 0.5891 - dense_4_loss: 0.1668 - dense_1_loss: 0.1771 - dense_3_loss: 0.2452 - dense_4_accuracy: 0.9507 - dense_1_accuracy: 0.9549 - dense_3_accuracy: 0.9525 - val_loss: 5.7354 - val_dense_4_loss: 1.9244 - val_dense_1_loss: 0.5955 - val_dense_3_loss: 3.2156 - val_dense_4_accuracy: 0.8253 - val_dense_1_accuracy: 0.8766 - val_dense_3_accuracy: 0.8349\n",
      "Epoch 112/130\n",
      "163/163 [==============================] - ETA: 0s - loss: 0.6144 - dense_4_loss: 0.1882 - dense_1_loss: 0.1622 - dense_3_loss: 0.2640 - dense_4_accuracy: 0.9557 - dense_1_accuracy: 0.9523 - dense_3_accuracy: 0.9517\n",
      "Epoch 112: val_dense_3_accuracy did not improve from 0.92628\n",
      "163/163 [==============================] - 24s 149ms/step - loss: 0.6144 - dense_4_loss: 0.1882 - dense_1_loss: 0.1622 - dense_3_loss: 0.2640 - dense_4_accuracy: 0.9557 - dense_1_accuracy: 0.9523 - dense_3_accuracy: 0.9517 - val_loss: 1.2414 - val_dense_4_loss: 0.5553 - val_dense_1_loss: 0.3532 - val_dense_3_loss: 0.3330 - val_dense_4_accuracy: 0.8798 - val_dense_1_accuracy: 0.9151 - val_dense_3_accuracy: 0.8990\n",
      "Epoch 113/130\n",
      "163/163 [==============================] - ETA: 0s - loss: 0.5341 - dense_4_loss: 0.1617 - dense_1_loss: 0.1803 - dense_3_loss: 0.1921 - dense_4_accuracy: 0.9526 - dense_1_accuracy: 0.9503 - dense_3_accuracy: 0.9538\n",
      "Epoch 113: val_dense_3_accuracy did not improve from 0.92628\n",
      "163/163 [==============================] - 24s 147ms/step - loss: 0.5341 - dense_4_loss: 0.1617 - dense_1_loss: 0.1803 - dense_3_loss: 0.1921 - dense_4_accuracy: 0.9526 - dense_1_accuracy: 0.9503 - dense_3_accuracy: 0.9538 - val_loss: 2.7493 - val_dense_4_loss: 0.7081 - val_dense_1_loss: 0.7657 - val_dense_3_loss: 1.2754 - val_dense_4_accuracy: 0.9087 - val_dense_1_accuracy: 0.9167 - val_dense_3_accuracy: 0.9087\n",
      "Epoch 114/130\n",
      "163/163 [==============================] - ETA: 0s - loss: 0.8261 - dense_4_loss: 0.2241 - dense_1_loss: 0.2096 - dense_3_loss: 0.3924 - dense_4_accuracy: 0.9479 - dense_1_accuracy: 0.9477 - dense_3_accuracy: 0.9507\n",
      "Epoch 114: val_dense_3_accuracy did not improve from 0.92628\n",
      "163/163 [==============================] - 24s 149ms/step - loss: 0.8261 - dense_4_loss: 0.2241 - dense_1_loss: 0.2096 - dense_3_loss: 0.3924 - dense_4_accuracy: 0.9479 - dense_1_accuracy: 0.9477 - dense_3_accuracy: 0.9507 - val_loss: 1.0226 - val_dense_4_loss: 0.3584 - val_dense_1_loss: 0.3082 - val_dense_3_loss: 0.3560 - val_dense_4_accuracy: 0.8990 - val_dense_1_accuracy: 0.9071 - val_dense_3_accuracy: 0.9071\n",
      "Epoch 115/130\n",
      "163/163 [==============================] - ETA: 0s - loss: 0.6201 - dense_4_loss: 0.1991 - dense_1_loss: 0.1769 - dense_3_loss: 0.2442 - dense_4_accuracy: 0.9446 - dense_1_accuracy: 0.9459 - dense_3_accuracy: 0.9469\n",
      "Epoch 115: val_dense_3_accuracy did not improve from 0.92628\n",
      "163/163 [==============================] - 24s 148ms/step - loss: 0.6201 - dense_4_loss: 0.1991 - dense_1_loss: 0.1769 - dense_3_loss: 0.2442 - dense_4_accuracy: 0.9446 - dense_1_accuracy: 0.9459 - dense_3_accuracy: 0.9469 - val_loss: 6.2920 - val_dense_4_loss: 1.3082 - val_dense_1_loss: 0.5669 - val_dense_3_loss: 4.4169 - val_dense_4_accuracy: 0.8494 - val_dense_1_accuracy: 0.8846 - val_dense_3_accuracy: 0.8878\n",
      "Epoch 116/130\n",
      "163/163 [==============================] - ETA: 0s - loss: 0.7171 - dense_4_loss: 0.2391 - dense_1_loss: 0.1802 - dense_3_loss: 0.2977 - dense_4_accuracy: 0.9421 - dense_1_accuracy: 0.9502 - dense_3_accuracy: 0.9492\n",
      "Epoch 116: val_dense_3_accuracy did not improve from 0.92628\n",
      "163/163 [==============================] - 24s 149ms/step - loss: 0.7171 - dense_4_loss: 0.2391 - dense_1_loss: 0.1802 - dense_3_loss: 0.2977 - dense_4_accuracy: 0.9421 - dense_1_accuracy: 0.9502 - dense_3_accuracy: 0.9492 - val_loss: 5.5355 - val_dense_4_loss: 1.4001 - val_dense_1_loss: 0.6340 - val_dense_3_loss: 3.5014 - val_dense_4_accuracy: 0.8654 - val_dense_1_accuracy: 0.8798 - val_dense_3_accuracy: 0.8397\n",
      "Epoch 117/130\n",
      "163/163 [==============================] - ETA: 0s - loss: 0.5987 - dense_4_loss: 0.2120 - dense_1_loss: 0.1795 - dense_3_loss: 0.2071 - dense_4_accuracy: 0.9434 - dense_1_accuracy: 0.9498 - dense_3_accuracy: 0.9434\n",
      "Epoch 117: val_dense_3_accuracy did not improve from 0.92628\n",
      "163/163 [==============================] - 25s 150ms/step - loss: 0.5987 - dense_4_loss: 0.2120 - dense_1_loss: 0.1795 - dense_3_loss: 0.2071 - dense_4_accuracy: 0.9434 - dense_1_accuracy: 0.9498 - dense_3_accuracy: 0.9434 - val_loss: 3.7888 - val_dense_4_loss: 1.1958 - val_dense_1_loss: 0.6890 - val_dense_3_loss: 1.9040 - val_dense_4_accuracy: 0.8990 - val_dense_1_accuracy: 0.8990 - val_dense_3_accuracy: 0.8910\n",
      "Epoch 118/130\n",
      "163/163 [==============================] - ETA: 0s - loss: 0.8037 - dense_4_loss: 0.2587 - dense_1_loss: 0.1835 - dense_3_loss: 0.3616 - dense_4_accuracy: 0.9463 - dense_1_accuracy: 0.9492 - dense_3_accuracy: 0.9502\n",
      "Epoch 118: val_dense_3_accuracy did not improve from 0.92628\n",
      "163/163 [==============================] - 24s 148ms/step - loss: 0.8037 - dense_4_loss: 0.2587 - dense_1_loss: 0.1835 - dense_3_loss: 0.3616 - dense_4_accuracy: 0.9463 - dense_1_accuracy: 0.9492 - dense_3_accuracy: 0.9502 - val_loss: 2.1318 - val_dense_4_loss: 1.0913 - val_dense_1_loss: 0.5208 - val_dense_3_loss: 0.5197 - val_dense_4_accuracy: 0.8221 - val_dense_1_accuracy: 0.8814 - val_dense_3_accuracy: 0.9071\n",
      "Epoch 119/130\n",
      "163/163 [==============================] - ETA: 0s - loss: 1.5745 - dense_4_loss: 0.4815 - dense_1_loss: 0.3549 - dense_3_loss: 0.7381 - dense_4_accuracy: 0.9438 - dense_1_accuracy: 0.9486 - dense_3_accuracy: 0.9436\n",
      "Epoch 119: val_dense_3_accuracy did not improve from 0.92628\n",
      "163/163 [==============================] - 25s 151ms/step - loss: 1.5745 - dense_4_loss: 0.4815 - dense_1_loss: 0.3549 - dense_3_loss: 0.7381 - dense_4_accuracy: 0.9438 - dense_1_accuracy: 0.9486 - dense_3_accuracy: 0.9436 - val_loss: 2.2539 - val_dense_4_loss: 0.7180 - val_dense_1_loss: 0.6075 - val_dense_3_loss: 0.9283 - val_dense_4_accuracy: 0.8894 - val_dense_1_accuracy: 0.8814 - val_dense_3_accuracy: 0.8446\n",
      "Epoch 120/130\n",
      "163/163 [==============================] - ETA: 0s - loss: 0.6502 - dense_4_loss: 0.2179 - dense_1_loss: 0.2029 - dense_3_loss: 0.2293 - dense_4_accuracy: 0.9480 - dense_1_accuracy: 0.9507 - dense_3_accuracy: 0.9515\n",
      "Epoch 120: val_dense_3_accuracy did not improve from 0.92628\n",
      "163/163 [==============================] - 24s 148ms/step - loss: 0.6502 - dense_4_loss: 0.2179 - dense_1_loss: 0.2029 - dense_3_loss: 0.2293 - dense_4_accuracy: 0.9480 - dense_1_accuracy: 0.9507 - dense_3_accuracy: 0.9515 - val_loss: 1.2845 - val_dense_4_loss: 0.3808 - val_dense_1_loss: 0.4206 - val_dense_3_loss: 0.4831 - val_dense_4_accuracy: 0.8494 - val_dense_1_accuracy: 0.8782 - val_dense_3_accuracy: 0.8365\n",
      "Epoch 121/130\n",
      "163/163 [==============================] - ETA: 0s - loss: 0.6551 - dense_4_loss: 0.2295 - dense_1_loss: 0.1790 - dense_3_loss: 0.2466 - dense_4_accuracy: 0.9436 - dense_1_accuracy: 0.9511 - dense_3_accuracy: 0.9456\n",
      "Epoch 121: val_dense_3_accuracy did not improve from 0.92628\n",
      "163/163 [==============================] - 24s 149ms/step - loss: 0.6551 - dense_4_loss: 0.2295 - dense_1_loss: 0.1790 - dense_3_loss: 0.2466 - dense_4_accuracy: 0.9436 - dense_1_accuracy: 0.9511 - dense_3_accuracy: 0.9456 - val_loss: 5.7288 - val_dense_4_loss: 1.2399 - val_dense_1_loss: 2.0873 - val_dense_3_loss: 2.4015 - val_dense_4_accuracy: 0.8878 - val_dense_1_accuracy: 0.8910 - val_dense_3_accuracy: 0.8942\n",
      "Epoch 122/130\n",
      "163/163 [==============================] - ETA: 0s - loss: 1.6560 - dense_4_loss: 0.6473 - dense_1_loss: 0.2205 - dense_3_loss: 0.7882 - dense_4_accuracy: 0.9411 - dense_1_accuracy: 0.9511 - dense_3_accuracy: 0.9413\n",
      "Epoch 122: val_dense_3_accuracy did not improve from 0.92628\n",
      "163/163 [==============================] - 24s 147ms/step - loss: 1.6560 - dense_4_loss: 0.6473 - dense_1_loss: 0.2205 - dense_3_loss: 0.7882 - dense_4_accuracy: 0.9411 - dense_1_accuracy: 0.9511 - dense_3_accuracy: 0.9413 - val_loss: 5.0072 - val_dense_4_loss: 1.1433 - val_dense_1_loss: 2.9740 - val_dense_3_loss: 0.8899 - val_dense_4_accuracy: 0.8429 - val_dense_1_accuracy: 0.8526 - val_dense_3_accuracy: 0.7869\n",
      "Epoch 123/130\n",
      "163/163 [==============================] - ETA: 0s - loss: 0.5746 - dense_4_loss: 0.2063 - dense_1_loss: 0.1700 - dense_3_loss: 0.1983 - dense_4_accuracy: 0.9475 - dense_1_accuracy: 0.9469 - dense_3_accuracy: 0.9500\n",
      "Epoch 123: val_dense_3_accuracy did not improve from 0.92628\n",
      "163/163 [==============================] - 24s 150ms/step - loss: 0.5746 - dense_4_loss: 0.2063 - dense_1_loss: 0.1700 - dense_3_loss: 0.1983 - dense_4_accuracy: 0.9475 - dense_1_accuracy: 0.9469 - dense_3_accuracy: 0.9500 - val_loss: 3.1715 - val_dense_4_loss: 0.6645 - val_dense_1_loss: 0.9238 - val_dense_3_loss: 1.5832 - val_dense_4_accuracy: 0.8429 - val_dense_1_accuracy: 0.8317 - val_dense_3_accuracy: 0.8333\n",
      "Epoch 124/130\n",
      "163/163 [==============================] - ETA: 0s - loss: 0.6475 - dense_4_loss: 0.2332 - dense_1_loss: 0.1941 - dense_3_loss: 0.2202 - dense_4_accuracy: 0.9369 - dense_1_accuracy: 0.9425 - dense_3_accuracy: 0.9413\n",
      "Epoch 124: val_dense_3_accuracy did not improve from 0.92628\n",
      "163/163 [==============================] - 24s 147ms/step - loss: 0.6475 - dense_4_loss: 0.2332 - dense_1_loss: 0.1941 - dense_3_loss: 0.2202 - dense_4_accuracy: 0.9369 - dense_1_accuracy: 0.9425 - dense_3_accuracy: 0.9413 - val_loss: 1.1221 - val_dense_4_loss: 0.3027 - val_dense_1_loss: 0.4130 - val_dense_3_loss: 0.4065 - val_dense_4_accuracy: 0.9103 - val_dense_1_accuracy: 0.8718 - val_dense_3_accuracy: 0.8862\n",
      "Epoch 125/130\n",
      "163/163 [==============================] - ETA: 0s - loss: 0.6395 - dense_4_loss: 0.1853 - dense_1_loss: 0.1758 - dense_3_loss: 0.2784 - dense_4_accuracy: 0.9433 - dense_1_accuracy: 0.9475 - dense_3_accuracy: 0.9480\n",
      "Epoch 125: val_dense_3_accuracy did not improve from 0.92628\n",
      "163/163 [==============================] - 24s 149ms/step - loss: 0.6395 - dense_4_loss: 0.1853 - dense_1_loss: 0.1758 - dense_3_loss: 0.2784 - dense_4_accuracy: 0.9433 - dense_1_accuracy: 0.9475 - dense_3_accuracy: 0.9480 - val_loss: 1.4986 - val_dense_4_loss: 0.3153 - val_dense_1_loss: 0.6923 - val_dense_3_loss: 0.4911 - val_dense_4_accuracy: 0.8830 - val_dense_1_accuracy: 0.8910 - val_dense_3_accuracy: 0.9135\n",
      "Epoch 126/130\n",
      "163/163 [==============================] - ETA: 0s - loss: 3.1931 - dense_4_loss: 0.4817 - dense_1_loss: 0.2858 - dense_3_loss: 2.4256 - dense_4_accuracy: 0.9417 - dense_1_accuracy: 0.9446 - dense_3_accuracy: 0.9429\n",
      "Epoch 126: val_dense_3_accuracy did not improve from 0.92628\n",
      "163/163 [==============================] - 24s 150ms/step - loss: 3.1931 - dense_4_loss: 0.4817 - dense_1_loss: 0.2858 - dense_3_loss: 2.4256 - dense_4_accuracy: 0.9417 - dense_1_accuracy: 0.9446 - dense_3_accuracy: 0.9429 - val_loss: 2.1511 - val_dense_4_loss: 0.5270 - val_dense_1_loss: 0.7451 - val_dense_3_loss: 0.8790 - val_dense_4_accuracy: 0.8718 - val_dense_1_accuracy: 0.8670 - val_dense_3_accuracy: 0.8718\n",
      "Epoch 127/130\n",
      "163/163 [==============================] - ETA: 0s - loss: 0.8741 - dense_4_loss: 0.3961 - dense_1_loss: 0.2108 - dense_3_loss: 0.2672 - dense_4_accuracy: 0.9461 - dense_1_accuracy: 0.9482 - dense_3_accuracy: 0.9480\n",
      "Epoch 127: val_dense_3_accuracy did not improve from 0.92628\n",
      "163/163 [==============================] - 24s 148ms/step - loss: 0.8741 - dense_4_loss: 0.3961 - dense_1_loss: 0.2108 - dense_3_loss: 0.2672 - dense_4_accuracy: 0.9461 - dense_1_accuracy: 0.9482 - dense_3_accuracy: 0.9480 - val_loss: 2.8344 - val_dense_4_loss: 1.1378 - val_dense_1_loss: 0.3605 - val_dense_3_loss: 1.3361 - val_dense_4_accuracy: 0.8718 - val_dense_1_accuracy: 0.9135 - val_dense_3_accuracy: 0.8910\n",
      "Epoch 128/130\n",
      "163/163 [==============================] - ETA: 0s - loss: 0.8779 - dense_4_loss: 0.3107 - dense_1_loss: 0.1980 - dense_3_loss: 0.3692 - dense_4_accuracy: 0.9431 - dense_1_accuracy: 0.9521 - dense_3_accuracy: 0.9465\n",
      "Epoch 128: val_dense_3_accuracy did not improve from 0.92628\n",
      "163/163 [==============================] - 24s 149ms/step - loss: 0.8779 - dense_4_loss: 0.3107 - dense_1_loss: 0.1980 - dense_3_loss: 0.3692 - dense_4_accuracy: 0.9431 - dense_1_accuracy: 0.9521 - dense_3_accuracy: 0.9465 - val_loss: 0.8770 - val_dense_4_loss: 0.2748 - val_dense_1_loss: 0.2969 - val_dense_3_loss: 0.3053 - val_dense_4_accuracy: 0.8782 - val_dense_1_accuracy: 0.9071 - val_dense_3_accuracy: 0.9119\n",
      "Epoch 129/130\n",
      "163/163 [==============================] - ETA: 0s - loss: 0.6470 - dense_4_loss: 0.2269 - dense_1_loss: 0.1787 - dense_3_loss: 0.2414 - dense_4_accuracy: 0.9394 - dense_1_accuracy: 0.9515 - dense_3_accuracy: 0.9465\n",
      "Epoch 129: val_dense_3_accuracy did not improve from 0.92628\n",
      "163/163 [==============================] - 24s 149ms/step - loss: 0.6470 - dense_4_loss: 0.2269 - dense_1_loss: 0.1787 - dense_3_loss: 0.2414 - dense_4_accuracy: 0.9394 - dense_1_accuracy: 0.9515 - dense_3_accuracy: 0.9465 - val_loss: 1.2329 - val_dense_4_loss: 0.5377 - val_dense_1_loss: 0.3890 - val_dense_3_loss: 0.3062 - val_dense_4_accuracy: 0.8878 - val_dense_1_accuracy: 0.9006 - val_dense_3_accuracy: 0.9022\n",
      "Epoch 130/130\n",
      "163/163 [==============================] - ETA: 0s - loss: 0.6155 - dense_4_loss: 0.2044 - dense_1_loss: 0.2033 - dense_3_loss: 0.2078 - dense_4_accuracy: 0.9434 - dense_1_accuracy: 0.9465 - dense_3_accuracy: 0.9465\n",
      "Epoch 130: val_dense_3_accuracy did not improve from 0.92628\n",
      "163/163 [==============================] - 24s 147ms/step - loss: 0.6155 - dense_4_loss: 0.2044 - dense_1_loss: 0.2033 - dense_3_loss: 0.2078 - dense_4_accuracy: 0.9434 - dense_1_accuracy: 0.9465 - dense_3_accuracy: 0.9465 - val_loss: 1.0872 - val_dense_4_loss: 0.3661 - val_dense_1_loss: 0.3343 - val_dense_3_loss: 0.3867 - val_dense_4_accuracy: 0.8333 - val_dense_1_accuracy: 0.8638 - val_dense_3_accuracy: 0.8654\n"
     ]
    }
   ],
   "source": [
    "hist = model.fit(\n",
    "    train_generator,\n",
    "    steps_per_epoch=len(image_data) // 32,\n",
    "    epochs=130,  # Set a high maximum, EarlyStopping will likely stop before\n",
    "    validation_data=(test_image_data, test_image_labels),\n",
    "    callbacks=[checkpoint] \n",
    ")"
   ]
  },
  {
   "cell_type": "code",
   "execution_count": 9,
   "id": "958eb00d",
   "metadata": {
    "execution": {
     "iopub.execute_input": "2024-04-13T00:54:12.805268Z",
     "iopub.status.busy": "2024-04-13T00:54:12.804923Z",
     "iopub.status.idle": "2024-04-13T00:54:12.995455Z",
     "shell.execute_reply": "2024-04-13T00:54:12.994667Z"
    },
    "papermill": {
     "duration": 2.015066,
     "end_time": "2024-04-13T00:54:12.997730",
     "exception": false,
     "start_time": "2024-04-13T00:54:10.982664",
     "status": "completed"
    },
    "tags": []
   },
   "outputs": [],
   "source": [
    "model.load_weights('/kaggle/working/best_model.h5')"
   ]
  },
  {
   "cell_type": "code",
   "execution_count": 10,
   "id": "c7cafa0f",
   "metadata": {
    "execution": {
     "iopub.execute_input": "2024-04-13T00:54:16.682570Z",
     "iopub.status.busy": "2024-04-13T00:54:16.682207Z",
     "iopub.status.idle": "2024-04-13T00:54:18.013986Z",
     "shell.execute_reply": "2024-04-13T00:54:18.013014Z"
    },
    "papermill": {
     "duration": 3.223002,
     "end_time": "2024-04-13T00:54:18.016146",
     "exception": false,
     "start_time": "2024-04-13T00:54:14.793144",
     "status": "completed"
    },
    "tags": []
   },
   "outputs": [
    {
     "name": "stdout",
     "output_type": "stream",
     "text": [
      "20/20 [==============================] - 1s 30ms/step\n"
     ]
    }
   ],
   "source": [
    "prediction = model.predict(test_image_data)"
   ]
  },
  {
   "cell_type": "code",
   "execution_count": 11,
   "id": "a0dbf6a6",
   "metadata": {
    "execution": {
     "iopub.execute_input": "2024-04-13T00:54:21.578695Z",
     "iopub.status.busy": "2024-04-13T00:54:21.578052Z",
     "iopub.status.idle": "2024-04-13T00:54:21.584990Z",
     "shell.execute_reply": "2024-04-13T00:54:21.584144Z"
    },
    "papermill": {
     "duration": 1.762439,
     "end_time": "2024-04-13T00:54:21.586942",
     "exception": false,
     "start_time": "2024-04-13T00:54:19.824503",
     "status": "completed"
    },
    "tags": []
   },
   "outputs": [
    {
     "data": {
      "text/plain": [
       "(624, 224, 224, 1)"
      ]
     },
     "execution_count": 11,
     "metadata": {},
     "output_type": "execute_result"
    }
   ],
   "source": [
    "test_image_data.shape"
   ]
  },
  {
   "cell_type": "code",
   "execution_count": 12,
   "id": "0e0c11b7",
   "metadata": {
    "execution": {
     "iopub.execute_input": "2024-04-13T00:54:25.202802Z",
     "iopub.status.busy": "2024-04-13T00:54:25.202442Z",
     "iopub.status.idle": "2024-04-13T00:54:25.206747Z",
     "shell.execute_reply": "2024-04-13T00:54:25.205883Z"
    },
    "papermill": {
     "duration": 1.821523,
     "end_time": "2024-04-13T00:54:25.208848",
     "exception": false,
     "start_time": "2024-04-13T00:54:23.387325",
     "status": "completed"
    },
    "tags": []
   },
   "outputs": [],
   "source": [
    "import matplotlib.pyplot as plt"
   ]
  },
  {
   "cell_type": "code",
   "execution_count": 13,
   "id": "eb7c023c",
   "metadata": {
    "execution": {
     "iopub.execute_input": "2024-04-13T00:54:28.941272Z",
     "iopub.status.busy": "2024-04-13T00:54:28.940915Z",
     "iopub.status.idle": "2024-04-13T00:54:29.191679Z",
     "shell.execute_reply": "2024-04-13T00:54:29.190623Z"
    },
    "papermill": {
     "duration": 2.152454,
     "end_time": "2024-04-13T00:54:29.194008",
     "exception": false,
     "start_time": "2024-04-13T00:54:27.041554",
     "status": "completed"
    },
    "tags": []
   },
   "outputs": [
    {
     "data": {
      "text/plain": [
       "Text(0, 0.5, 'Accuracy')"
      ]
     },
     "execution_count": 13,
     "metadata": {},
     "output_type": "execute_result"
    },
    {
     "data": {
      "image/png": "[encoded data removed]",
      "text/plain": [
       "<Figure size 640x480 with 1 Axes>"
      ]
     },
     "metadata": {},
     "output_type": "display_data"
    }
   ],
   "source": [
    "plt.plot(hist.history['dense_4_accuracy'])\n",
    "plt.title(\"Accuracy vs epochs\")\n",
    "plt.xlabel(\"Epochs\")\n",
    "plt.ylabel(\"Accuracy\")"
   ]
  },
  {
   "cell_type": "code",
   "execution_count": 14,
   "id": "b3cdbe2c",
   "metadata": {
    "execution": {
     "iopub.execute_input": "2024-04-13T00:54:32.841504Z",
     "iopub.status.busy": "2024-04-13T00:54:32.840639Z",
     "iopub.status.idle": "2024-04-13T00:54:33.135435Z",
     "shell.execute_reply": "2024-04-13T00:54:33.134537Z"
    },
    "papermill": {
     "duration": 2.107935,
     "end_time": "2024-04-13T00:54:33.137533",
     "exception": false,
     "start_time": "2024-04-13T00:54:31.029598",
     "status": "completed"
    },
    "tags": []
   },
   "outputs": [
    {
     "data": {
      "text/plain": [
       "Text(0, 0.5, 'Accuracy')"
      ]
     },
     "execution_count": 14,
     "metadata": {},
     "output_type": "execute_result"
    },
    {
     "data": {
      "image/png": "[encoded data removed]",
      "text/plain": [
       "<Figure size 640x480 with 1 Axes>"
      ]
     },
     "metadata": {},
     "output_type": "display_data"
    }
   ],
   "source": [
    "plt.plot(hist.history['val_dense_3_accuracy'])\n",
    "plt.title(\"Val_Accuracy vs epochs\")\n",
    "plt.xlabel(\"Epochs\")\n",
    "plt.ylabel(\"Accuracy\")"
   ]
  },
  {
   "cell_type": "code",
   "execution_count": 15,
   "id": "6d33e060",
   "metadata": {
    "execution": {
     "iopub.execute_input": "2024-04-13T00:54:36.883051Z",
     "iopub.status.busy": "2024-04-13T00:54:36.882308Z",
     "iopub.status.idle": "2024-04-13T00:54:36.888403Z",
     "shell.execute_reply": "2024-04-13T00:54:36.887504Z"
    },
    "papermill": {
     "duration": 1.939634,
     "end_time": "2024-04-13T00:54:36.890207",
     "exception": false,
     "start_time": "2024-04-13T00:54:34.950573",
     "status": "completed"
    },
    "tags": []
   },
   "outputs": [
    {
     "data": {
      "text/plain": [
       "(624, 1)"
      ]
     },
     "execution_count": 15,
     "metadata": {},
     "output_type": "execute_result"
    }
   ],
   "source": [
    "prediction[1].shape"
   ]
  },
  {
   "cell_type": "code",
   "execution_count": 16,
   "id": "c4ddf6a3",
   "metadata": {
    "execution": {
     "iopub.execute_input": "2024-04-13T00:54:40.497954Z",
     "iopub.status.busy": "2024-04-13T00:54:40.497062Z",
     "iopub.status.idle": "2024-04-13T00:54:40.505471Z",
     "shell.execute_reply": "2024-04-13T00:54:40.504501Z"
    },
    "papermill": {
     "duration": 1.78239,
     "end_time": "2024-04-13T00:54:40.507477",
     "exception": false,
     "start_time": "2024-04-13T00:54:38.725087",
     "status": "completed"
    },
    "tags": []
   },
   "outputs": [],
   "source": [
    "output=[]\n",
    "for i in prediction[2]:\n",
    "    if i > 1-i:\n",
    "        output.append(1)\n",
    "    else:\n",
    "        output.append(0)"
   ]
  },
  {
   "cell_type": "code",
   "execution_count": 17,
   "id": "60c31cb2",
   "metadata": {
    "execution": {
     "iopub.execute_input": "2024-04-13T00:54:44.138246Z",
     "iopub.status.busy": "2024-04-13T00:54:44.137393Z",
     "iopub.status.idle": "2024-04-13T00:54:44.142781Z",
     "shell.execute_reply": "2024-04-13T00:54:44.141941Z"
    },
    "papermill": {
     "duration": 1.823815,
     "end_time": "2024-04-13T00:54:44.144742",
     "exception": false,
     "start_time": "2024-04-13T00:54:42.320927",
     "status": "completed"
    },
    "tags": []
   },
   "outputs": [],
   "source": [
    "true = 0\n",
    "false = 0\n",
    "\n",
    "for i in range(624):\n",
    "    if output[i] == test_image_labels[i]:\n",
    "        true += 1\n",
    "    else:\n",
    "        false += 1"
   ]
  },
  {
   "cell_type": "code",
   "execution_count": 18,
   "id": "85531b2d",
   "metadata": {
    "execution": {
     "iopub.execute_input": "2024-04-13T00:54:47.841378Z",
     "iopub.status.busy": "2024-04-13T00:54:47.840538Z",
     "iopub.status.idle": "2024-04-13T00:54:47.845541Z",
     "shell.execute_reply": "2024-04-13T00:54:47.844637Z"
    },
    "papermill": {
     "duration": 1.75968,
     "end_time": "2024-04-13T00:54:47.847669",
     "exception": false,
     "start_time": "2024-04-13T00:54:46.087989",
     "status": "completed"
    },
    "tags": []
   },
   "outputs": [
    {
     "name": "stdout",
     "output_type": "stream",
     "text": [
      "0.9262820512820513\n"
     ]
    }
   ],
   "source": [
    "print(true/624)"
   ]
  },
  {
   "cell_type": "code",
   "execution_count": 19,
   "id": "4f44bdfd",
   "metadata": {
    "execution": {
     "iopub.execute_input": "2024-04-13T00:54:51.504624Z",
     "iopub.status.busy": "2024-04-13T00:54:51.503661Z",
     "iopub.status.idle": "2024-04-13T00:54:52.154682Z",
     "shell.execute_reply": "2024-04-13T00:54:52.153849Z"
    },
    "papermill": {
     "duration": 2.501702,
     "end_time": "2024-04-13T00:54:52.157024",
     "exception": false,
     "start_time": "2024-04-13T00:54:49.655322",
     "status": "completed"
    },
    "tags": []
   },
   "outputs": [],
   "source": [
    "from sklearn.metrics import confusion_matrix\n",
    "# ... (Assuming you have your true_labels and predicted_labels)\n",
    "\n",
    "cm = confusion_matrix(test_image_labels, output)\n",
    "# plot_confusion_matrix(cm, target_names=['Normal', 'Pneumonia'])  # Optional: Add class labels\n"
   ]
  },
  {
   "cell_type": "code",
   "execution_count": null,
   "id": "b3660fb9",
   "metadata": {
    "papermill": {
     "duration": 1.798426,
     "end_time": "2024-04-13T00:54:55.759998",
     "exception": false,
     "start_time": "2024-04-13T00:54:53.961572",
     "status": "completed"
    },
    "tags": []
   },
   "outputs": [],
   "source": []
  },
  {
   "cell_type": "code",
   "execution_count": 20,
   "id": "ca9e52e6",
   "metadata": {
    "execution": {
     "iopub.execute_input": "2024-04-13T00:54:59.365257Z",
     "iopub.status.busy": "2024-04-13T00:54:59.364859Z",
     "iopub.status.idle": "2024-04-13T00:54:59.694164Z",
     "shell.execute_reply": "2024-04-13T00:54:59.693199Z"
    },
    "papermill": {
     "duration": 2.168869,
     "end_time": "2024-04-13T00:54:59.696773",
     "exception": false,
     "start_time": "2024-04-13T00:54:57.527904",
     "status": "completed"
    },
    "tags": []
   },
   "outputs": [],
   "source": [
    "model.save('GoogleNet.h5')"
   ]
  },
  {
   "cell_type": "code",
   "execution_count": 21,
   "id": "0d399245",
   "metadata": {
    "execution": {
     "iopub.execute_input": "2024-04-13T00:55:03.363695Z",
     "iopub.status.busy": "2024-04-13T00:55:03.362963Z",
     "iopub.status.idle": "2024-04-13T00:55:19.922754Z",
     "shell.execute_reply": "2024-04-13T00:55:19.921565Z"
    },
    "papermill": {
     "duration": 18.373441,
     "end_time": "2024-04-13T00:55:19.924855",
     "exception": false,
     "start_time": "2024-04-13T00:55:01.551414",
     "status": "completed"
    },
    "tags": []
   },
   "outputs": [
    {
     "name": "stdout",
     "output_type": "stream",
     "text": [
      "Requirement already satisfied: scikit-learn in /opt/conda/lib/python3.10/site-packages (1.2.2)\r\n",
      "Collecting scikit-learn\r\n",
      "  Downloading scikit_learn-1.4.2-cp310-cp310-manylinux_2_17_x86_64.manylinux2014_x86_64.whl (12.1 MB)\r\n",
      "\u001b[2K     \u001b[90m━━━━━━━━━━━━━━━━━━━━━━━━━━━━━━━━━━━━━━━━\u001b[0m \u001b[32m12.1/12.1 MB\u001b[0m \u001b[31m51.9 MB/s\u001b[0m eta \u001b[36m0:00:00\u001b[0m\r\n",
      "\u001b[?25hRequirement already satisfied: numpy>=1.19.5 in /opt/conda/lib/python3.10/site-packages (from scikit-learn) (1.23.5)\r\n",
      "Requirement already satisfied: scipy>=1.6.0 in /opt/conda/lib/python3.10/site-packages (from scikit-learn) (1.11.2)\r\n",
      "Requirement already satisfied: joblib>=1.2.0 in /opt/conda/lib/python3.10/site-packages (from scikit-learn) (1.3.2)\r\n",
      "Requirement already satisfied: threadpoolctl>=2.0.0 in /opt/conda/lib/python3.10/site-packages (from scikit-learn) (3.1.0)\r\n",
      "Installing collected packages: scikit-learn\r\n",
      "  Attempting uninstall: scikit-learn\r\n",
      "    Found existing installation: scikit-learn 1.2.2\r\n",
      "    Uninstalling scikit-learn-1.2.2:\r\n",
      "      Successfully uninstalled scikit-learn-1.2.2\r\n",
      "Successfully installed scikit-learn-1.4.2\r\n",
      "Note: you may need to restart the kernel to use updated packages.\n"
     ]
    }
   ],
   "source": [
    "pip install --upgrade scikit-learn \n"
   ]
  },
  {
   "cell_type": "code",
   "execution_count": 22,
   "id": "52ff2e3f",
   "metadata": {
    "execution": {
     "iopub.execute_input": "2024-04-13T00:55:23.508767Z",
     "iopub.status.busy": "2024-04-13T00:55:23.508396Z",
     "iopub.status.idle": "2024-04-13T00:55:24.150689Z",
     "shell.execute_reply": "2024-04-13T00:55:24.149753Z"
    },
    "papermill": {
     "duration": 2.464593,
     "end_time": "2024-04-13T00:55:24.153030",
     "exception": false,
     "start_time": "2024-04-13T00:55:21.688437",
     "status": "completed"
    },
    "tags": []
   },
   "outputs": [
    {
     "data": {
      "image/png": "[encoded data removed]",
      "text/plain": [
       "<Figure size 800x600 with 2 Axes>"
      ]
     },
     "metadata": {},
     "output_type": "display_data"
    }
   ],
   "source": [
    "import seaborn as sns\n",
    "import matplotlib.pyplot as plt\n",
    "\n",
    "plt.figure(figsize=(8,6))\n",
    "sns.heatmap(cm, annot=True, fmt='d', cmap='Blues')  \n",
    "plt.xlabel(\"Predicted Label\")\n",
    "plt.ylabel(\"True Label\")\n",
    "plt.show()"
   ]
  },
  {
   "cell_type": "code",
   "execution_count": null,
   "id": "91a73cda",
   "metadata": {
    "papermill": {
     "duration": 1.884171,
     "end_time": "2024-04-13T00:55:27.842752",
     "exception": false,
     "start_time": "2024-04-13T00:55:25.958581",
     "status": "completed"
    },
    "tags": []
   },
   "outputs": [],
   "source": []
  }
 ],
 "metadata": {
  "kaggle": {
   "accelerator": "nvidiaTeslaT4",
   "dataSources": [
    {
     "datasetId": 17810,
     "sourceId": 23812,
     "sourceType": "datasetVersion"
    }
   ],
   "dockerImageVersionId": 30558,
   "isGpuEnabled": true,
   "isInternetEnabled": true,
   "language": "python",
   "sourceType": "notebook"
  },
  "kernelspec": {
   "display_name": "Python 3",
   "language": "python",
   "name": "python3"
  },
  "language_info": {
   "codemirror_mode": {
    "name": "ipython",
    "version": 3
   },
   "file_extension": ".py",
   "mimetype": "text/x-python",
   "name": "python",
   "nbconvert_exporter": "python",
   "pygments_lexer": "ipython3",
   "version": "3.10.12"
  },
  "papermill": {
   "default_parameters": {},
   "duration": 3402.989562,
   "end_time": "2024-04-13T00:55:32.368648",
   "environment_variables": {},
   "exception": null,
   "input_path": "__notebook__.ipynb",
   "output_path": "__notebook__.ipynb",
   "parameters": {},
   "start_time": "2024-04-12T23:58:49.379086",
   "version": "2.4.0"
  }
 },
 "nbformat": 4,
 "nbformat_minor": 5
}
